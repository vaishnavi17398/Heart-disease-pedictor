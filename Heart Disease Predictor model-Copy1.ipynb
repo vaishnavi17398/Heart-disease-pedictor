{
 "cells": [
  {
   "cell_type": "markdown",
   "id": "4749819d",
   "metadata": {},
   "source": [
    "About the data set (Heart disease data)\n",
    "The dataset contains information about patients. The aim is to find whether or not a patient has cardiovascular disease based on the several factors from the patient profile.\n",
    "Attribute information:\n",
    "\n",
    "male: Gender of patient: male(1) or female(0)\n",
    "\n",
    "age: Age of patient\n",
    "\n",
    "education: Education level of patient: 1 = Some High School; 2 = High School or GED; 3 = Some College or Vocational School; 4 = college\n",
    "\n",
    "currentSmoker: Whether the patient is a smoker now: Yes(1) or No(0)\n",
    "\n",
    "cigsPerDay: Average number of cigarettes smoked by patient per day\n",
    "\n",
    "BPMeds: Whether the patient is on blood pressure medications: Yes(1) or No(0)\n",
    "\n",
    "prevalentStroke: If the patient has a history of heart stroke: Yes(1) or No(0)\n",
    "\n",
    "prevalentHyp: If the patient has a history of hypertension: Yes(1) or No(0)\n",
    "\n",
    "diabetes: If the patient has a diabetes: Yes(1) or No(0)\n",
    "\n",
    "totChol: Average cholesterol levels in mg/dL\n",
    "\n",
    "sysBP: Average systolic blood pressure of patient\n",
    "\n",
    "diaBP: Average diastolic blood pressure of patient\n",
    "\n",
    "BMI: BMI of patient\n",
    "\n",
    "heartRate: Avergae heartrate of patient\n",
    "\n",
    "glucose: Average blood glucose levels of patient\n",
    "\n",
    "CVD: Does the patient have cardiovascular disease: Yes(1) or No(0)"
   ]
  },
  {
   "cell_type": "code",
   "execution_count": 1,
   "id": "f9d0bbb1",
   "metadata": {},
   "outputs": [],
   "source": [
    "# import 'Pandas' \n",
    "import pandas as pd \n",
    "\n",
    "# import 'Numpy' \n",
    "import numpy as np\n",
    "\n",
    "# import subpackage of Matplotlib\n",
    "import matplotlib.pyplot as plt\n",
    "from matplotlib.colors import ListedColormap\n",
    "\n",
    "# import 'Seaborn' \n",
    "import seaborn as sns\n",
    "\n",
    "# to suppress warnings \n",
    "from warnings import filterwarnings\n",
    "filterwarnings('ignore')\n",
    "\n",
    "# import train-test split \n",
    "from sklearn.model_selection import train_test_split\n",
    "\n",
    "# import various functions from statsmodels\n",
    "import statsmodels\n",
    "import statsmodels.api as sm\n",
    "\n",
    "# import StandardScaler to perform scaling\n",
    "from sklearn.preprocessing import StandardScaler \n",
    " \n",
    "from sklearn.preprocessing import MinMaxScaler\n",
    "\n",
    "\n",
    "# import various functions from sklearn \n",
    "from sklearn import metrics\n",
    "from sklearn.linear_model import LogisticRegression\n",
    "from sklearn.metrics import classification_report\n",
    "from sklearn.metrics import cohen_kappa_score\n",
    "from sklearn.metrics import confusion_matrix\n",
    "from sklearn.metrics import roc_curve\n",
    "from sklearn.metrics import accuracy_score\n",
    "\n",
    "from sklearn.neighbors import KNeighborsClassifier\n",
    "\n",
    "from sklearn.model_selection import GridSearchCV\n",
    "from sklearn.model_selection import cross_val_score \n",
    "\n",
    "from sklearn.tree import DecisionTreeClassifier\n",
    "from sklearn.ensemble import RandomForestClassifier\n",
    "from sklearn import tree\n",
    "\n",
    "# import the functions for visualizing the decision tree\n",
    "#import pydotplus\n",
    "#from IPython.display import Image  \n",
    "\n",
    "# import function to perform feature selection\n",
    "from sklearn.feature_selection import RFE\n"
   ]
  },
  {
   "cell_type": "code",
   "execution_count": 2,
   "id": "9f0cd368",
   "metadata": {},
   "outputs": [
    {
     "data": {
      "text/html": [
       "<div>\n",
       "<style scoped>\n",
       "    .dataframe tbody tr th:only-of-type {\n",
       "        vertical-align: middle;\n",
       "    }\n",
       "\n",
       "    .dataframe tbody tr th {\n",
       "        vertical-align: top;\n",
       "    }\n",
       "\n",
       "    .dataframe thead th {\n",
       "        text-align: right;\n",
       "    }\n",
       "</style>\n",
       "<table border=\"1\" class=\"dataframe\">\n",
       "  <thead>\n",
       "    <tr style=\"text-align: right;\">\n",
       "      <th></th>\n",
       "      <th>male</th>\n",
       "      <th>age</th>\n",
       "      <th>education</th>\n",
       "      <th>currentSmoker</th>\n",
       "      <th>cigsPerDay</th>\n",
       "      <th>BPMeds</th>\n",
       "      <th>prevalentStroke</th>\n",
       "      <th>prevalentHyp</th>\n",
       "      <th>diabetes</th>\n",
       "      <th>totChol</th>\n",
       "      <th>sysBP</th>\n",
       "      <th>diaBP</th>\n",
       "      <th>BMI</th>\n",
       "      <th>heartRate</th>\n",
       "      <th>glucose</th>\n",
       "      <th>CVD</th>\n",
       "    </tr>\n",
       "  </thead>\n",
       "  <tbody>\n",
       "    <tr>\n",
       "      <th>0</th>\n",
       "      <td>1</td>\n",
       "      <td>39</td>\n",
       "      <td>4.0</td>\n",
       "      <td>0</td>\n",
       "      <td>0.0</td>\n",
       "      <td>0.0</td>\n",
       "      <td>0</td>\n",
       "      <td>0</td>\n",
       "      <td>0</td>\n",
       "      <td>195.0</td>\n",
       "      <td>106.0</td>\n",
       "      <td>70.0</td>\n",
       "      <td>26.97</td>\n",
       "      <td>80.0</td>\n",
       "      <td>77.0</td>\n",
       "      <td>0</td>\n",
       "    </tr>\n",
       "    <tr>\n",
       "      <th>1</th>\n",
       "      <td>0</td>\n",
       "      <td>46</td>\n",
       "      <td>2.0</td>\n",
       "      <td>0</td>\n",
       "      <td>0.0</td>\n",
       "      <td>0.0</td>\n",
       "      <td>0</td>\n",
       "      <td>0</td>\n",
       "      <td>0</td>\n",
       "      <td>250.0</td>\n",
       "      <td>121.0</td>\n",
       "      <td>81.0</td>\n",
       "      <td>28.73</td>\n",
       "      <td>95.0</td>\n",
       "      <td>76.0</td>\n",
       "      <td>0</td>\n",
       "    </tr>\n",
       "    <tr>\n",
       "      <th>2</th>\n",
       "      <td>1</td>\n",
       "      <td>48</td>\n",
       "      <td>1.0</td>\n",
       "      <td>1</td>\n",
       "      <td>20.0</td>\n",
       "      <td>0.0</td>\n",
       "      <td>0</td>\n",
       "      <td>0</td>\n",
       "      <td>0</td>\n",
       "      <td>245.0</td>\n",
       "      <td>127.5</td>\n",
       "      <td>80.0</td>\n",
       "      <td>25.34</td>\n",
       "      <td>75.0</td>\n",
       "      <td>70.0</td>\n",
       "      <td>0</td>\n",
       "    </tr>\n",
       "    <tr>\n",
       "      <th>3</th>\n",
       "      <td>0</td>\n",
       "      <td>61</td>\n",
       "      <td>3.0</td>\n",
       "      <td>1</td>\n",
       "      <td>30.0</td>\n",
       "      <td>0.0</td>\n",
       "      <td>0</td>\n",
       "      <td>1</td>\n",
       "      <td>0</td>\n",
       "      <td>225.0</td>\n",
       "      <td>150.0</td>\n",
       "      <td>95.0</td>\n",
       "      <td>28.58</td>\n",
       "      <td>65.0</td>\n",
       "      <td>103.0</td>\n",
       "      <td>1</td>\n",
       "    </tr>\n",
       "    <tr>\n",
       "      <th>4</th>\n",
       "      <td>0</td>\n",
       "      <td>46</td>\n",
       "      <td>3.0</td>\n",
       "      <td>1</td>\n",
       "      <td>23.0</td>\n",
       "      <td>0.0</td>\n",
       "      <td>0</td>\n",
       "      <td>0</td>\n",
       "      <td>0</td>\n",
       "      <td>285.0</td>\n",
       "      <td>130.0</td>\n",
       "      <td>84.0</td>\n",
       "      <td>23.10</td>\n",
       "      <td>85.0</td>\n",
       "      <td>85.0</td>\n",
       "      <td>0</td>\n",
       "    </tr>\n",
       "  </tbody>\n",
       "</table>\n",
       "</div>"
      ],
      "text/plain": [
       "   male  age  education  currentSmoker  cigsPerDay  BPMeds  prevalentStroke  \\\n",
       "0     1   39        4.0              0         0.0     0.0                0   \n",
       "1     0   46        2.0              0         0.0     0.0                0   \n",
       "2     1   48        1.0              1        20.0     0.0                0   \n",
       "3     0   61        3.0              1        30.0     0.0                0   \n",
       "4     0   46        3.0              1        23.0     0.0                0   \n",
       "\n",
       "   prevalentHyp  diabetes  totChol  sysBP  diaBP    BMI  heartRate  glucose  \\\n",
       "0             0         0    195.0  106.0   70.0  26.97       80.0     77.0   \n",
       "1             0         0    250.0  121.0   81.0  28.73       95.0     76.0   \n",
       "2             0         0    245.0  127.5   80.0  25.34       75.0     70.0   \n",
       "3             1         0    225.0  150.0   95.0  28.58       65.0    103.0   \n",
       "4             0         0    285.0  130.0   84.0  23.10       85.0     85.0   \n",
       "\n",
       "   CVD  \n",
       "0    0  \n",
       "1    0  \n",
       "2    0  \n",
       "3    1  \n",
       "4    0  "
      ]
     },
     "execution_count": 2,
     "metadata": {},
     "output_type": "execute_result"
    }
   ],
   "source": [
    "df_heart = pd.read_csv(\"Heart_disease.csv\")\n",
    "df_heart.head()"
   ]
  },
  {
   "cell_type": "code",
   "execution_count": 3,
   "id": "7ec42783",
   "metadata": {},
   "outputs": [
    {
     "data": {
      "text/plain": [
       "(4240, 16)"
      ]
     },
     "execution_count": 3,
     "metadata": {},
     "output_type": "execute_result"
    }
   ],
   "source": [
    "df_heart.shape\n"
   ]
  },
  {
   "cell_type": "code",
   "execution_count": 4,
   "id": "36d5ab99",
   "metadata": {},
   "outputs": [
    {
     "data": {
      "text/plain": [
       "male                 int64\n",
       "age                  int64\n",
       "education          float64\n",
       "currentSmoker        int64\n",
       "cigsPerDay         float64\n",
       "BPMeds             float64\n",
       "prevalentStroke      int64\n",
       "prevalentHyp         int64\n",
       "diabetes             int64\n",
       "totChol            float64\n",
       "sysBP              float64\n",
       "diaBP              float64\n",
       "BMI                float64\n",
       "heartRate          float64\n",
       "glucose            float64\n",
       "CVD                  int64\n",
       "dtype: object"
      ]
     },
     "execution_count": 4,
     "metadata": {},
     "output_type": "execute_result"
    }
   ],
   "source": [
    "df_heart.dtypes"
   ]
  },
  {
   "cell_type": "code",
   "execution_count": 5,
   "id": "61367179",
   "metadata": {},
   "outputs": [],
   "source": [
    "#Convert column which are wrongly names as numeric to object type\n",
    "df_heart['male']=df_heart['male'].astype(object)\n",
    "df_heart['education']=df_heart['education'].astype(object)\n",
    "df_heart['currentSmoker']=df_heart['currentSmoker'].astype(object)\n",
    "df_heart['BPMeds']=df_heart['BPMeds'].astype(object)\n",
    "df_heart['prevalentStroke']=df_heart['prevalentStroke'].astype(object)\n",
    "df_heart['prevalentStroke']=df_heart['prevalentStroke'].astype(object)\n",
    "df_heart['prevalentHyp']=df_heart['prevalentHyp'].astype(object)\n",
    "df_heart['diabetes']=df_heart['diabetes'].astype(object)"
   ]
  },
  {
   "cell_type": "code",
   "execution_count": 6,
   "id": "a24363ea",
   "metadata": {},
   "outputs": [
    {
     "data": {
      "text/plain": [
       "male                object\n",
       "age                  int64\n",
       "education           object\n",
       "currentSmoker       object\n",
       "cigsPerDay         float64\n",
       "BPMeds              object\n",
       "prevalentStroke     object\n",
       "prevalentHyp        object\n",
       "diabetes            object\n",
       "totChol            float64\n",
       "sysBP              float64\n",
       "diaBP              float64\n",
       "BMI                float64\n",
       "heartRate          float64\n",
       "glucose            float64\n",
       "CVD                  int64\n",
       "dtype: object"
      ]
     },
     "execution_count": 6,
     "metadata": {},
     "output_type": "execute_result"
    }
   ],
   "source": [
    "df_heart.dtypes"
   ]
  },
  {
   "cell_type": "code",
   "execution_count": 7,
   "id": "4258150c",
   "metadata": {},
   "outputs": [
    {
     "data": {
      "text/plain": [
       "glucose            9.150943\n",
       "education          2.476415\n",
       "BPMeds             1.250000\n",
       "totChol            1.179245\n",
       "cigsPerDay         0.683962\n",
       "BMI                0.448113\n",
       "heartRate          0.023585\n",
       "male               0.000000\n",
       "age                0.000000\n",
       "currentSmoker      0.000000\n",
       "prevalentStroke    0.000000\n",
       "prevalentHyp       0.000000\n",
       "diabetes           0.000000\n",
       "sysBP              0.000000\n",
       "diaBP              0.000000\n",
       "CVD                0.000000\n",
       "dtype: float64"
      ]
     },
     "execution_count": 7,
     "metadata": {},
     "output_type": "execute_result"
    }
   ],
   "source": [
    "((df_heart.isnull().sum() / df_heart.index.size)*100).sort_values(ascending=False)"
   ]
  },
  {
   "cell_type": "code",
   "execution_count": 8,
   "id": "a0b11d16",
   "metadata": {},
   "outputs": [],
   "source": [
    "#except glucose, we will drop null all the null records from other column as their percentage is less\n",
    "df_heart=df_heart.dropna(subset=['education','BPMeds','totChol','cigsPerDay','BMI','heartRate'])"
   ]
  },
  {
   "cell_type": "code",
   "execution_count": 9,
   "id": "6a01e470",
   "metadata": {},
   "outputs": [],
   "source": [
    "#fill missing values by using the median\n",
    "df_heart['glucose']=df_heart['glucose'].fillna(df_heart['glucose'].median())"
   ]
  },
  {
   "cell_type": "code",
   "execution_count": 10,
   "id": "c6ef7351",
   "metadata": {},
   "outputs": [
    {
     "data": {
      "text/plain": [
       "0    85.083981\n",
       "1    14.916019\n",
       "Name: CVD, dtype: float64"
      ]
     },
     "execution_count": 10,
     "metadata": {},
     "output_type": "execute_result"
    }
   ],
   "source": [
    "df_heart['CVD'].value_counts(normalize=True)*100\n",
    "\n",
    "#0 class --> People with no CVD\n",
    "# 1 class --> people with CVD so we can say classes are fairly represented"
   ]
  },
  {
   "cell_type": "code",
   "execution_count": 11,
   "id": "368079d1",
   "metadata": {},
   "outputs": [
    {
     "data": {
      "text/plain": [
       "Index(['male', 'age', 'education', 'currentSmoker', 'cigsPerDay', 'BPMeds',\n",
       "       'prevalentStroke', 'prevalentHyp', 'diabetes', 'totChol', 'sysBP',\n",
       "       'diaBP', 'BMI', 'heartRate', 'glucose'],\n",
       "      dtype='object')"
      ]
     },
     "execution_count": 11,
     "metadata": {},
     "output_type": "execute_result"
    }
   ],
   "source": [
    "#filer, check histogram for numeric and count plot for cat\n",
    "# filter the numerical features in the dataset\n",
    "# 'select_dtypes' is used to select the variables with given data type\n",
    "# 'include = [np.number]' will include all the numerical variables\n",
    "df_num = df_heart.select_dtypes(include = [np.number])\n",
    "df_num = df_heart.drop('CVD', axis = 1)\n",
    "# display numerical features\n",
    "df_num.columns"
   ]
  },
  {
   "cell_type": "code",
   "execution_count": 12,
   "id": "901efe1e",
   "metadata": {},
   "outputs": [],
   "source": [
    "#whether or not a patient will have cardiovascular disease based on the information about blood pressure of the patient."
   ]
  },
  {
   "cell_type": "code",
   "execution_count": 13,
   "id": "e30f1a0a",
   "metadata": {},
   "outputs": [],
   "source": [
    "df_num = df_heart.iloc[:,[10,11]]\n",
    "# 10 and 11 columns are diaBP and sysBP (numerical values) and coverting the to dataframe\n",
    "\n",
    "X=pd.DataFrame(df_num, columns=df_num.columns) \n",
    "\n",
    "#converting BPmeds(categorical) into numeric\n",
    "X['BPMeds']=pd.get_dummies(df_heart['BPMeds'],drop_first=True)\n",
    "\n",
    "y=df_heart.CVD \n",
    "#here , X will store independent variables and y will store target variable"
   ]
  },
  {
   "cell_type": "code",
   "execution_count": 14,
   "id": "e0a7caac",
   "metadata": {},
   "outputs": [
    {
     "name": "stdout",
     "output_type": "stream",
     "text": [
      "Optimization terminated successfully.\n",
      "         Current function value: 0.400832\n",
      "         Iterations 6\n",
      "                           Logit Regression Results                           \n",
      "==============================================================================\n",
      "Dep. Variable:                    CVD   No. Observations:                 3191\n",
      "Model:                          Logit   Df Residuals:                     3187\n",
      "Method:                           MLE   Df Model:                            3\n",
      "Date:                Wed, 10 Jan 2024   Pseudo R-squ.:                 0.05096\n",
      "Time:                        18:16:21   Log-Likelihood:                -1279.1\n",
      "converged:                       True   LL-Null:                       -1347.7\n",
      "Covariance Type:            nonrobust   LLR p-value:                 1.399e-29\n",
      "==============================================================================\n",
      "                 coef    std err          z      P>|z|      [0.025      0.975]\n",
      "------------------------------------------------------------------------------\n",
      "const         -4.5006      0.353    -12.749      0.000      -5.193      -3.809\n",
      "sysBP          0.0272      0.003      7.913      0.000       0.020       0.034\n",
      "diaBP         -0.0113      0.006     -1.761      0.078      -0.024       0.001\n",
      "BPMeds         0.4089      0.234      1.745      0.081      -0.050       0.868\n",
      "==============================================================================\n"
     ]
    }
   ],
   "source": [
    "X=sm.add_constant(X)\n",
    "X_train, X_test, y_train, y_test = train_test_split(X,\n",
    "                                                   y,\n",
    "                                                   random_state=1,\n",
    "                                                   test_size=0.2)\n",
    "logreg = sm.Logit(y_train,X_train).fit()\n",
    "print(logreg.summary())\n",
    "\n",
    "#from the conclusion we can see sys bp affects CVD greatly"
   ]
  },
  {
   "cell_type": "code",
   "execution_count": 15,
   "id": "951fbf7e",
   "metadata": {},
   "outputs": [],
   "source": [
    "#whether or not a patient has cardiovascular disease using the categorical variables in the dataset. "
   ]
  },
  {
   "cell_type": "code",
   "execution_count": 16,
   "id": "8c4a3e8e",
   "metadata": {},
   "outputs": [],
   "source": [
    "df_cat=df_heart.select_dtypes(include='object')\n",
    "X= pd.get_dummies(df_cat, drop_first= True)\n",
    "y=df_heart.CVD "
   ]
  },
  {
   "cell_type": "code",
   "execution_count": 17,
   "id": "6337eac4",
   "metadata": {},
   "outputs": [
    {
     "name": "stdout",
     "output_type": "stream",
     "text": [
      "Optimization terminated successfully.\n",
      "         Current function value: 0.398923\n",
      "         Iterations 6\n",
      "                           Logit Regression Results                           \n",
      "==============================================================================\n",
      "Dep. Variable:                    CVD   No. Observations:                 3191\n",
      "Model:                          Logit   Df Residuals:                     3181\n",
      "Method:                           MLE   Df Model:                            9\n",
      "Date:                Wed, 10 Jan 2024   Pseudo R-squ.:                 0.05548\n",
      "Time:                        18:16:21   Log-Likelihood:                -1273.0\n",
      "converged:                       True   LL-Null:                       -1347.7\n",
      "Covariance Type:            nonrobust   LLR p-value:                 1.094e-27\n",
      "=====================================================================================\n",
      "                        coef    std err          z      P>|z|      [0.025      0.975]\n",
      "-------------------------------------------------------------------------------------\n",
      "const                -2.2699      0.115    -19.745      0.000      -2.495      -2.045\n",
      "male_1                0.5188      0.106      4.890      0.000       0.311       0.727\n",
      "education_2.0        -0.4671      0.127     -3.689      0.000      -0.715      -0.219\n",
      "education_3.0        -0.2280      0.150     -1.517      0.129      -0.523       0.067\n",
      "education_4.0        -0.2251      0.167     -1.347      0.178      -0.553       0.102\n",
      "currentSmoker_1       0.2019      0.106      1.904      0.057      -0.006       0.410\n",
      "BPMeds_1.0            0.6848      0.231      2.959      0.003       0.231       1.138\n",
      "prevalentStroke_1     0.6907      0.507      1.362      0.173      -0.303       1.684\n",
      "prevalentHyp_1        0.8085      0.108      7.503      0.000       0.597       1.020\n",
      "diabetes_1            0.8645      0.253      3.416      0.001       0.368       1.361\n",
      "=====================================================================================\n"
     ]
    },
    {
     "data": {
      "text/html": [
       "<div>\n",
       "<style scoped>\n",
       "    .dataframe tbody tr th:only-of-type {\n",
       "        vertical-align: middle;\n",
       "    }\n",
       "\n",
       "    .dataframe tbody tr th {\n",
       "        vertical-align: top;\n",
       "    }\n",
       "\n",
       "    .dataframe thead th {\n",
       "        text-align: right;\n",
       "    }\n",
       "</style>\n",
       "<table border=\"1\" class=\"dataframe\">\n",
       "  <thead>\n",
       "    <tr style=\"text-align: right;\">\n",
       "      <th></th>\n",
       "      <th>odd</th>\n",
       "    </tr>\n",
       "  </thead>\n",
       "  <tbody>\n",
       "    <tr>\n",
       "      <th>const</th>\n",
       "      <td>0.103328</td>\n",
       "    </tr>\n",
       "    <tr>\n",
       "      <th>male_1</th>\n",
       "      <td>1.679930</td>\n",
       "    </tr>\n",
       "    <tr>\n",
       "      <th>education_2.0</th>\n",
       "      <td>0.626836</td>\n",
       "    </tr>\n",
       "    <tr>\n",
       "      <th>education_3.0</th>\n",
       "      <td>0.796133</td>\n",
       "    </tr>\n",
       "    <tr>\n",
       "      <th>education_4.0</th>\n",
       "      <td>0.798434</td>\n",
       "    </tr>\n",
       "    <tr>\n",
       "      <th>currentSmoker_1</th>\n",
       "      <td>1.223758</td>\n",
       "    </tr>\n",
       "    <tr>\n",
       "      <th>BPMeds_1.0</th>\n",
       "      <td>1.983432</td>\n",
       "    </tr>\n",
       "    <tr>\n",
       "      <th>prevalentStroke_1</th>\n",
       "      <td>1.995138</td>\n",
       "    </tr>\n",
       "    <tr>\n",
       "      <th>prevalentHyp_1</th>\n",
       "      <td>2.244576</td>\n",
       "    </tr>\n",
       "    <tr>\n",
       "      <th>diabetes_1</th>\n",
       "      <td>2.373889</td>\n",
       "    </tr>\n",
       "  </tbody>\n",
       "</table>\n",
       "</div>"
      ],
      "text/plain": [
       "                        odd\n",
       "const              0.103328\n",
       "male_1             1.679930\n",
       "education_2.0      0.626836\n",
       "education_3.0      0.796133\n",
       "education_4.0      0.798434\n",
       "currentSmoker_1    1.223758\n",
       "BPMeds_1.0         1.983432\n",
       "prevalentStroke_1  1.995138\n",
       "prevalentHyp_1     2.244576\n",
       "diabetes_1         2.373889"
      ]
     },
     "execution_count": 17,
     "metadata": {},
     "output_type": "execute_result"
    }
   ],
   "source": [
    "X=sm.add_constant(X)\n",
    "X_train, X_test, y_train, y_test = train_test_split(X,\n",
    "                                                   y,\n",
    "                                                   random_state=1,\n",
    "                                                   test_size=0.2)\n",
    "logreg = sm.Logit(y_train,X_train).fit()\n",
    "print(logreg.summary())\n",
    "df_odds= pd.DataFrame(np.exp(logreg.params),columns=['odd'])\n",
    "# odds is e to the power b0+b1x1...\n",
    "# just np.exp(logreg.params) give in array format\n",
    "df_odds\n",
    "\n",
    "#a unit change in each feature influence : eg. 1 unit change in male1 will bring 1.6799 units change in odds"
   ]
  },
  {
   "cell_type": "code",
   "execution_count": 18,
   "id": "e0175e48",
   "metadata": {},
   "outputs": [],
   "source": [
    "#if a patient has cardiovascular disease based on whether or not the patient has history of hypertension. "
   ]
  },
  {
   "cell_type": "code",
   "execution_count": 19,
   "id": "e8dee82f",
   "metadata": {},
   "outputs": [
    {
     "name": "stdout",
     "output_type": "stream",
     "text": [
      "Optimization terminated successfully.\n",
      "         Current function value: 0.409951\n",
      "         Iterations 6\n",
      "                           Logit Regression Results                           \n",
      "==============================================================================\n",
      "Dep. Variable:                    CVD   No. Observations:                 3191\n",
      "Model:                          Logit   Df Residuals:                     3189\n",
      "Method:                           MLE   Df Model:                            1\n",
      "Date:                Wed, 10 Jan 2024   Pseudo R-squ.:                 0.02937\n",
      "Time:                        18:16:21   Log-Likelihood:                -1308.2\n",
      "converged:                       True   LL-Null:                       -1347.7\n",
      "Covariance Type:            nonrobust   LLR p-value:                 5.717e-19\n",
      "==============================================================================\n",
      "                 coef    std err          z      P>|z|      [0.025      0.975]\n",
      "------------------------------------------------------------------------------\n",
      "const         -2.0800      0.068    -30.695      0.000      -2.213      -1.947\n",
      "1              0.9083      0.101      8.987      0.000       0.710       1.106\n",
      "==============================================================================\n",
      "odds of patient having a heart disease provided patient is hypertensed 2.4799880590534076\n",
      "odds of patient not having a heart disease provided patient is hypertensed 0.40322774795201727\n",
      "odd ratio 6.150340773047488\n"
     ]
    }
   ],
   "source": [
    "X= pd.get_dummies(df_heart['prevalentHyp'], drop_first= True)\n",
    "y=df_heart.CVD\n",
    "X=sm.add_constant(X)\n",
    "X_train, X_test, y_train, y_test = train_test_split(X,\n",
    "                                                   y,\n",
    "                                                   random_state=1,\n",
    "                                                   test_size=0.2)\n",
    "logreg = sm.Logit(y_train,X_train).fit()\n",
    "\n",
    "print(logreg.summary())\n",
    "\n",
    "df_odds= pd.DataFrame(np.exp(logreg.params),columns=['odd'])\n",
    "\n",
    "#to calculate odds \n",
    "odd_hyp = df_odds.iloc[1,0]\n",
    "\n",
    "odd_no_hyp =(1/df_odds.iloc[1,0])\n",
    "\n",
    "print(\"odds of patient having a heart disease provided patient is hypertensed\",odd_hyp)\n",
    "print(\"odds of patient not having a heart disease provided patient is hypertensed\",odd_no_hyp)\n",
    "print(\"odd ratio\",(odd_hyp/odd_no_hyp))"
   ]
  },
  {
   "cell_type": "code",
   "execution_count": 20,
   "id": "7d2ad096",
   "metadata": {},
   "outputs": [],
   "source": [
    "#a full model to predict if a patient will have a cardiovascular disease"
   ]
  },
  {
   "cell_type": "code",
   "execution_count": 21,
   "id": "e0f322d8",
   "metadata": {},
   "outputs": [
    {
     "name": "stdout",
     "output_type": "stream",
     "text": [
      "Optimization terminated successfully.\n",
      "         Current function value: 0.374542\n",
      "         Iterations 7\n",
      "                           Logit Regression Results                           \n",
      "==============================================================================\n",
      "Dep. Variable:                    CVD   No. Observations:                 3191\n",
      "Model:                          Logit   Df Residuals:                     3173\n",
      "Method:                           MLE   Df Model:                           17\n",
      "Date:                Wed, 10 Jan 2024   Pseudo R-squ.:                  0.1132\n",
      "Time:                        18:16:22   Log-Likelihood:                -1195.2\n",
      "converged:                       True   LL-Null:                       -1347.7\n",
      "Covariance Type:            nonrobust   LLR p-value:                 9.740e-55\n",
      "=====================================================================================\n",
      "                        coef    std err          z      P>|z|      [0.025      0.975]\n",
      "-------------------------------------------------------------------------------------\n",
      "const                -8.1008      0.767    -10.566      0.000      -9.604      -6.598\n",
      "age                   0.0625      0.007      8.524      0.000       0.048       0.077\n",
      "cigsPerDay            0.0191      0.007      2.856      0.004       0.006       0.032\n",
      "totChol               0.0023      0.001      1.860      0.063      -0.000       0.005\n",
      "sysBP                 0.0154      0.004      3.706      0.000       0.007       0.024\n",
      "diaBP                -0.0016      0.007     -0.226      0.821      -0.016       0.012\n",
      "BMI                  -0.0060      0.014     -0.432      0.666      -0.033       0.021\n",
      "heartRate            -0.0036      0.005     -0.783      0.434      -0.013       0.005\n",
      "glucose               0.0068      0.002      2.783      0.005       0.002       0.012\n",
      "male_1                0.5130      0.118      4.348      0.000       0.282       0.744\n",
      "education_2.0        -0.2030      0.134     -1.514      0.130      -0.466       0.060\n",
      "education_3.0        -0.0390      0.158     -0.247      0.805      -0.349       0.271\n",
      "education_4.0         0.0186      0.174      0.107      0.915      -0.322       0.359\n",
      "currentSmoker_1       0.1181      0.167      0.708      0.479      -0.209       0.445\n",
      "BPMeds_1.0            0.3301      0.245      1.348      0.178      -0.150       0.810\n",
      "prevalentStroke_1     0.7292      0.527      1.383      0.167      -0.304       1.763\n",
      "prevalentHyp_1        0.1220      0.150      0.811      0.418      -0.173       0.417\n",
      "diabetes_1           -0.0011      0.359     -0.003      0.998      -0.704       0.702\n",
      "=====================================================================================\n"
     ]
    }
   ],
   "source": [
    "df_num = df_heart.select_dtypes(include=np.number).drop(['CVD'],axis=1)\n",
    "df_cat=df_heart.select_dtypes(include='object')\n",
    "df_cat=pd.get_dummies(df_cat,drop_first=True)\n",
    "#we do pd.get dummies coz we cannot give categorical variables to our model\n",
    "\n",
    "X=pd.concat([df_num,df_cat],axis=1)\n",
    "y=df_heart.CVD\n",
    "X=sm.add_constant(X)\n",
    "X_train, X_test, y_train, y_test = train_test_split(X,\n",
    "                                                   y,\n",
    "                                                   random_state=1,\n",
    "                                                   test_size=0.2)\n",
    "logreg_full = sm.Logit(y_train,X_train).fit()\n",
    "print(logreg_full.summary())"
   ]
  },
  {
   "cell_type": "code",
   "execution_count": 22,
   "id": "aa50af42",
   "metadata": {},
   "outputs": [
    {
     "name": "stdout",
     "output_type": "stream",
     "text": [
      "AIC: 2426.325069062681\n"
     ]
    }
   ],
   "source": [
    "# 'aic' retuns the AIC value for the model\n",
    "print('AIC:', logreg_full.aic)\n",
    "#It is a relative measure of model evaluation. It gives a trade-off between model accuracy and model complexity."
   ]
  },
  {
   "cell_type": "code",
   "execution_count": 23,
   "id": "8c97c3f1",
   "metadata": {},
   "outputs": [
    {
     "data": {
      "text/html": [
       "<div>\n",
       "<style scoped>\n",
       "    .dataframe tbody tr th:only-of-type {\n",
       "        vertical-align: middle;\n",
       "    }\n",
       "\n",
       "    .dataframe tbody tr th {\n",
       "        vertical-align: top;\n",
       "    }\n",
       "\n",
       "    .dataframe thead th {\n",
       "        text-align: right;\n",
       "    }\n",
       "</style>\n",
       "<table border=\"1\" class=\"dataframe\">\n",
       "  <thead>\n",
       "    <tr style=\"text-align: right;\">\n",
       "      <th></th>\n",
       "      <th>Odds</th>\n",
       "    </tr>\n",
       "  </thead>\n",
       "  <tbody>\n",
       "    <tr>\n",
       "      <th>const</th>\n",
       "      <td>0.000303</td>\n",
       "    </tr>\n",
       "    <tr>\n",
       "      <th>age</th>\n",
       "      <td>1.064534</td>\n",
       "    </tr>\n",
       "    <tr>\n",
       "      <th>cigsPerDay</th>\n",
       "      <td>1.019290</td>\n",
       "    </tr>\n",
       "    <tr>\n",
       "      <th>totChol</th>\n",
       "      <td>1.002269</td>\n",
       "    </tr>\n",
       "    <tr>\n",
       "      <th>sysBP</th>\n",
       "      <td>1.015520</td>\n",
       "    </tr>\n",
       "    <tr>\n",
       "      <th>diaBP</th>\n",
       "      <td>0.998394</td>\n",
       "    </tr>\n",
       "    <tr>\n",
       "      <th>BMI</th>\n",
       "      <td>0.994049</td>\n",
       "    </tr>\n",
       "    <tr>\n",
       "      <th>heartRate</th>\n",
       "      <td>0.996440</td>\n",
       "    </tr>\n",
       "    <tr>\n",
       "      <th>glucose</th>\n",
       "      <td>1.006773</td>\n",
       "    </tr>\n",
       "    <tr>\n",
       "      <th>male_1</th>\n",
       "      <td>1.670221</td>\n",
       "    </tr>\n",
       "    <tr>\n",
       "      <th>education_2.0</th>\n",
       "      <td>0.816282</td>\n",
       "    </tr>\n",
       "    <tr>\n",
       "      <th>education_3.0</th>\n",
       "      <td>0.961779</td>\n",
       "    </tr>\n",
       "    <tr>\n",
       "      <th>education_4.0</th>\n",
       "      <td>1.018747</td>\n",
       "    </tr>\n",
       "    <tr>\n",
       "      <th>currentSmoker_1</th>\n",
       "      <td>1.125315</td>\n",
       "    </tr>\n",
       "    <tr>\n",
       "      <th>BPMeds_1.0</th>\n",
       "      <td>1.391104</td>\n",
       "    </tr>\n",
       "    <tr>\n",
       "      <th>prevalentStroke_1</th>\n",
       "      <td>2.073348</td>\n",
       "    </tr>\n",
       "    <tr>\n",
       "      <th>prevalentHyp_1</th>\n",
       "      <td>1.129701</td>\n",
       "    </tr>\n",
       "    <tr>\n",
       "      <th>diabetes_1</th>\n",
       "      <td>0.998947</td>\n",
       "    </tr>\n",
       "  </tbody>\n",
       "</table>\n",
       "</div>"
      ],
      "text/plain": [
       "                       Odds\n",
       "const              0.000303\n",
       "age                1.064534\n",
       "cigsPerDay         1.019290\n",
       "totChol            1.002269\n",
       "sysBP              1.015520\n",
       "diaBP              0.998394\n",
       "BMI                0.994049\n",
       "heartRate          0.996440\n",
       "glucose            1.006773\n",
       "male_1             1.670221\n",
       "education_2.0      0.816282\n",
       "education_3.0      0.961779\n",
       "education_4.0      1.018747\n",
       "currentSmoker_1    1.125315\n",
       "BPMeds_1.0         1.391104\n",
       "prevalentStroke_1  2.073348\n",
       "prevalentHyp_1     1.129701\n",
       "diabetes_1         0.998947"
      ]
     },
     "execution_count": 23,
     "metadata": {},
     "output_type": "execute_result"
    }
   ],
   "source": [
    "# take the exponential of the coefficient of a variable to calculate the odds\n",
    "# 'params' returns the coefficients of all the independent variables\n",
    "# pass the required column name to the parameter, 'columns'\n",
    "df_odds = pd.DataFrame(np.exp(logreg_full.params), columns= ['Odds']) \n",
    "\n",
    "# print the dataframe\n",
    "df_odds"
   ]
  },
  {
   "cell_type": "code",
   "execution_count": 24,
   "id": "e07f79f1",
   "metadata": {},
   "outputs": [
    {
     "data": {
      "text/plain": [
       "1846    0.051414\n",
       "212     0.398992\n",
       "4151    0.026380\n",
       "1298    0.129119\n",
       "130     0.180857\n",
       "dtype: float64"
      ]
     },
     "execution_count": 24,
     "metadata": {},
     "output_type": "execute_result"
    }
   ],
   "source": [
    "# let 'y_pred_prob' be the predicted values of y\n",
    "y_pred_prob = logreg_full.predict(X_test)\n",
    "\n",
    "# print the y_pred_prob\n",
    "y_pred_prob.head()"
   ]
  },
  {
   "cell_type": "markdown",
   "id": "149e0e25",
   "metadata": {},
   "source": [
    "Since the target variable can take only two values either 0 or 1. We decide the cut-off of 0.5. i.e. if 'y_pred_prob' is less than 0.5, then consider it to be 0 else consider it to be 1."
   ]
  },
  {
   "cell_type": "code",
   "execution_count": 25,
   "id": "fce5b715",
   "metadata": {},
   "outputs": [
    {
     "data": {
      "text/plain": [
       "[0, 0, 0, 0, 0]"
      ]
     },
     "execution_count": 25,
     "metadata": {},
     "output_type": "execute_result"
    }
   ],
   "source": [
    "# convert probabilities to 0 and 1 using 'if_else'\n",
    "y_pred = [ 0 if x < 0.5 else 1 for x in y_pred_prob]\n",
    "y_pred[0:5]"
   ]
  },
  {
   "cell_type": "code",
   "execution_count": 26,
   "id": "e3ed3c07",
   "metadata": {},
   "outputs": [
    {
     "data": {
      "image/png": "[encoded data removed]",
      "text/plain": [
       "<Figure size 432x288 with 1 Axes>"
      ]
     },
     "metadata": {
      "needs_background": "light"
     },
     "output_type": "display_data"
    }
   ],
   "source": [
    "cm = confusion_matrix(y_test, y_pred)\n",
    "conf_matrix = pd.DataFrame(data = cm,columns = ['Predicted:0','Predicted:1'], index = ['Actual:0','Actual:1'])\n",
    "sns.heatmap(conf_matrix, annot = True, fmt = 'd', cmap = ListedColormap(['lightskyblue']), cbar = False, \n",
    "            linewidths = 0.1, annot_kws = {'size':25})\n",
    "plt.xticks(fontsize = 20)\n",
    "plt.yticks(fontsize = 20)\n",
    "\n",
    "plt.show()"
   ]
  },
  {
   "cell_type": "code",
   "execution_count": 27,
   "id": "809ab32d",
   "metadata": {},
   "outputs": [],
   "source": [
    "# True Negatives are denoted by 'TN'\n",
    "# Actual 'O' values which are classified correctly\n",
    "TN = cm[0,0]\n",
    "\n",
    "# True Positives are denoted by 'TP'\n",
    "# Actual '1' values which are classified correctly\n",
    "TP = cm[1,1]\n",
    "\n",
    "# False Positives are denoted by 'FP'\n",
    "# it is the type 1 error\n",
    "# Actual 'O' values which are classified wrongly as '1'\n",
    "FP = cm[0,1]\n",
    "\n",
    "# False Negatives are denoted by 'FN'\n",
    "# it is the type 2 error\n",
    "# Actual '1' values which are classified wrongly as '0'\n",
    "FN = cm[1,0]"
   ]
  },
  {
   "cell_type": "code",
   "execution_count": 28,
   "id": "b14a9b2c",
   "metadata": {},
   "outputs": [
    {
     "data": {
      "text/plain": [
       "0.8571428571428571"
      ]
     },
     "execution_count": 28,
     "metadata": {},
     "output_type": "execute_result"
    }
   ],
   "source": [
    "#Precision: It is defined as the ratio of true positives to the total positive predictions.\n",
    "\n",
    "# calculate the precision value\n",
    "precision = TP / (TP+FP)\n",
    "\n",
    "# print the value\n",
    "precision"
   ]
  },
  {
   "cell_type": "code",
   "execution_count": 29,
   "id": "c4b45e88",
   "metadata": {},
   "outputs": [
    {
     "data": {
      "text/plain": [
       "0.05128205128205128"
      ]
     },
     "execution_count": 29,
     "metadata": {},
     "output_type": "execute_result"
    }
   ],
   "source": [
    "# calculate the recall value\n",
    "recall = TP / (TP+FN)\n",
    "\n",
    "# print the value\n",
    "recall"
   ]
  },
  {
   "cell_type": "code",
   "execution_count": 30,
   "id": "7b1eaf67",
   "metadata": {},
   "outputs": [
    {
     "data": {
      "text/plain": [
       "0.9985315712187959"
      ]
     },
     "execution_count": 30,
     "metadata": {},
     "output_type": "execute_result"
    }
   ],
   "source": [
    "# calculate the specificity value\n",
    "specificity = TN / (TN+FP)\n",
    "\n",
    "# print the value\n",
    "specificity"
   ]
  },
  {
   "cell_type": "code",
   "execution_count": 31,
   "id": "f2955709",
   "metadata": {},
   "outputs": [
    {
     "data": {
      "text/plain": [
       "0.0967741935483871"
      ]
     },
     "execution_count": 31,
     "metadata": {},
     "output_type": "execute_result"
    }
   ],
   "source": [
    "# calculate the f1_score\n",
    "f1_score = 2*((precision*recall)/(precision+recall))\n",
    "\n",
    "# print the f1_score\n",
    "f1_score"
   ]
  },
  {
   "cell_type": "code",
   "execution_count": 32,
   "id": "7c1bf3a1",
   "metadata": {},
   "outputs": [
    {
     "data": {
      "text/plain": [
       "0.8596491228070176"
      ]
     },
     "execution_count": 32,
     "metadata": {},
     "output_type": "execute_result"
    }
   ],
   "source": [
    "# calculate the accuracy\n",
    "accuracy = (TN+TP) / (TN+FP+FN+TP)\n",
    "\n",
    "# print the accuracy\n",
    "accuracy"
   ]
  },
  {
   "cell_type": "code",
   "execution_count": 33,
   "id": "f9d7a43b",
   "metadata": {},
   "outputs": [
    {
     "name": "stdout",
     "output_type": "stream",
     "text": [
      "              precision    recall  f1-score   support\n",
      "\n",
      "           0       0.86      1.00      0.92       681\n",
      "           1       0.86      0.05      0.10       117\n",
      "\n",
      "    accuracy                           0.86       798\n",
      "   macro avg       0.86      0.52      0.51       798\n",
      "weighted avg       0.86      0.86      0.80       798\n",
      "\n"
     ]
    }
   ],
   "source": [
    "#We can also calculate the above measures using the `classification_report()`\n",
    "# calculate various performance measures\n",
    "acc_table = classification_report(y_test, y_pred)\n",
    "\n",
    "# print the table\n",
    "print(acc_table)"
   ]
  },
  {
   "cell_type": "markdown",
   "id": "4edbce27",
   "metadata": {},
   "source": [
    "From the above output, we can infer that the recall of the positive class is known as sensitivity and the recall of the negative class is specificity.\n",
    "\n",
    "support is the number of observations in the corresponding class.\n",
    "\n",
    "The macro average in the output is obtained by averaging the unweighted mean per label and the weighted average is given by averaging the support-weighted mean per label.\n",
    "\n",
    "**Kappa score:** It is a measure of inter-rater reliability. For logistic regression, the actual and predicted values of the target variable are the raters."
   ]
  },
  {
   "cell_type": "code",
   "execution_count": 34,
   "id": "4719e513",
   "metadata": {},
   "outputs": [
    {
     "data": {
      "image/png": "[encoded data removed]",
      "text/plain": [
       "<Figure size 432x288 with 1 Axes>"
      ]
     },
     "metadata": {
      "needs_background": "light"
     },
     "output_type": "display_data"
    }
   ],
   "source": [
    "# the roc_curve() returns the values for false positive rate, true positive rate and threshold\n",
    "# pass the actual target values and predicted probabilities to the function\n",
    "fpr, tpr, thresholds = roc_curve(y_test, y_pred_prob)\n",
    "\n",
    "# plot the ROC curve\n",
    "plt.plot(fpr, tpr)\n",
    "\n",
    "# set limits for x and y axes\n",
    "plt.xlim([0.0, 1.0])\n",
    "plt.ylim([0.0, 1.0])\n",
    "\n",
    "# plot the straight line showing worst prediction for the model\n",
    "plt.plot([0, 1], [0, 1],'r--')\n",
    "\n",
    "# add plot and axes labels\n",
    "# set text size using 'fontsize'\n",
    "plt.title('ROC curve for Admission Prediction Classifier (Full Model)', fontsize = 15)\n",
    "plt.xlabel('False positive rate (1-Specificity)', fontsize = 15)\n",
    "plt.ylabel('True positive rate (Sensitivity)', fontsize = 15)\n",
    "\n",
    "# add the AUC score to the plot\n",
    "# 'x' and 'y' gives position of the text\n",
    "# 's' is the text \n",
    "# use round() to round-off the AUC score upto 4 digits\n",
    "plt.text(x = 0.02, y = 0.9, s = ('AUC Score:', round(metrics.roc_auc_score(y_test, y_pred_prob),4)))\n",
    "                               \n",
    "# plot the grid\n",
    "plt.grid(True)"
   ]
  },
  {
   "cell_type": "code",
   "execution_count": 35,
   "id": "945acd1a",
   "metadata": {},
   "outputs": [],
   "source": [
    "# create an empty dataframe to store the scores for various algorithms\n",
    "score_card = pd.DataFrame(columns=['Probability Cutoff', 'AUC Score', 'Precision Score', 'Recall Score',\n",
    "                                       'Accuracy Score', 'Kappa Score', 'f1-score'])\n",
    "\n",
    "# append the result table for all performance scores\n",
    "# performance measures considered for model comparision are 'AUC Score', 'Precision Score', 'Recall Score','Accuracy Score',\n",
    "# 'Kappa Score', and 'f1-score'\n",
    "# compile the required information in a user defined function \n",
    "def update_score_card(model, cutoff):\n",
    "    \n",
    "    # let 'y_pred_prob' be the predicted values of y\n",
    "    y_pred_prob = logreg_full.predict(X_test)\n",
    "\n",
    "    # convert probabilities to 0 and 1 using 'if_else'\n",
    "    y_pred = [ 0 if x < cutoff else 1 for x in y_pred_prob]\n",
    "    \n",
    "    # assign 'score_card' as global variable\n",
    "    global score_card\n",
    "\n",
    "    # append the results to the dataframe 'score_card'\n",
    "    # 'ignore_index = True' do not consider the index labels\n",
    "    score_card = score_card.append({'Probability Cutoff': cutoff,\n",
    "                                    'AUC Score' : metrics.roc_auc_score(y_test, y_pred),\n",
    "                                    'Precision Score': metrics.precision_score(y_test, y_pred),\n",
    "                                    'Recall Score': metrics.recall_score(y_test, y_pred),\n",
    "                                    'Accuracy Score': metrics.accuracy_score(y_test, y_pred),\n",
    "                                    'Kappa Score':metrics.cohen_kappa_score(y_test, y_pred),\n",
    "                                    'f1-score': metrics.f1_score(y_test, y_pred)}, \n",
    "                                    ignore_index = True)"
   ]
  },
  {
   "cell_type": "code",
   "execution_count": 36,
   "id": "5d5cded4",
   "metadata": {},
   "outputs": [],
   "source": [
    "#Identify the Best Cut-off Value\n",
    "# consider a list of values for cut-off\n",
    "cutoff = [0.1, 0.2, 0.3, 0.4, 0.5, 0.6, 0.7, 0.8, 0.9]\n",
    "\n",
    "# use the for loop to compute performance measures for each value of the cut-off\n",
    "# call the update_score_card() to update the score card for each cut-off\n",
    "# pass the model and cut-off value to the function\n",
    "for value in cutoff:\n",
    "    update_score_card(logreg_full, value)"
   ]
  },
  {
   "cell_type": "code",
   "execution_count": 37,
   "id": "7541faed",
   "metadata": {},
   "outputs": [
    {
     "name": "stdout",
     "output_type": "stream",
     "text": [
      "Score Card for Logistic regression:\n"
     ]
    },
    {
     "data": {
      "text/html": [
       "<style type=\"text/css\">\n",
       "#T_00258_row1_col1, #T_00258_row1_col5, #T_00258_row1_col6, #T_00258_row4_col4 {\n",
       "  background-color: lightblue;\n",
       "}\n",
       "</style>\n",
       "<table id=\"T_00258_\">\n",
       "  <thead>\n",
       "    <tr>\n",
       "      <th class=\"blank level0\" >&nbsp;</th>\n",
       "      <th class=\"col_heading level0 col0\" >Probability Cutoff</th>\n",
       "      <th class=\"col_heading level0 col1\" >AUC Score</th>\n",
       "      <th class=\"col_heading level0 col2\" >Precision Score</th>\n",
       "      <th class=\"col_heading level0 col3\" >Recall Score</th>\n",
       "      <th class=\"col_heading level0 col4\" >Accuracy Score</th>\n",
       "      <th class=\"col_heading level0 col5\" >Kappa Score</th>\n",
       "      <th class=\"col_heading level0 col6\" >f1-score</th>\n",
       "    </tr>\n",
       "  </thead>\n",
       "  <tbody>\n",
       "    <tr>\n",
       "      <th id=\"T_00258_level0_row0\" class=\"row_heading level0 row0\" >0</th>\n",
       "      <td id=\"T_00258_row0_col0\" class=\"data row0 col0\" >0.100000</td>\n",
       "      <td id=\"T_00258_row0_col1\" class=\"data row0 col1\" >0.663767</td>\n",
       "      <td id=\"T_00258_row0_col2\" class=\"data row0 col2\" >0.217865</td>\n",
       "      <td id=\"T_00258_row0_col3\" class=\"data row0 col3\" >0.854701</td>\n",
       "      <td id=\"T_00258_row0_col4\" class=\"data row0 col4\" >0.528822</td>\n",
       "      <td id=\"T_00258_row0_col5\" class=\"data row0 col5\" >0.148177</td>\n",
       "      <td id=\"T_00258_row0_col6\" class=\"data row0 col6\" >0.347222</td>\n",
       "    </tr>\n",
       "    <tr>\n",
       "      <th id=\"T_00258_level0_row1\" class=\"row_heading level0 row1\" >1</th>\n",
       "      <td id=\"T_00258_row1_col0\" class=\"data row1 col0\" >0.200000</td>\n",
       "      <td id=\"T_00258_row1_col1\" class=\"data row1 col1\" >0.673651</td>\n",
       "      <td id=\"T_00258_row1_col2\" class=\"data row1 col2\" >0.320000</td>\n",
       "      <td id=\"T_00258_row1_col3\" class=\"data row1 col3\" >0.547009</td>\n",
       "      <td id=\"T_00258_row1_col4\" class=\"data row1 col4\" >0.763158</td>\n",
       "      <td id=\"T_00258_row1_col5\" class=\"data row1 col5\" >0.268444</td>\n",
       "      <td id=\"T_00258_row1_col6\" class=\"data row1 col6\" >0.403785</td>\n",
       "    </tr>\n",
       "    <tr>\n",
       "      <th id=\"T_00258_level0_row2\" class=\"row_heading level0 row2\" >2</th>\n",
       "      <td id=\"T_00258_row2_col0\" class=\"data row2 col0\" >0.300000</td>\n",
       "      <td id=\"T_00258_row2_col1\" class=\"data row2 col1\" >0.589424</td>\n",
       "      <td id=\"T_00258_row2_col2\" class=\"data row2 col2\" >0.381579</td>\n",
       "      <td id=\"T_00258_row2_col3\" class=\"data row2 col3\" >0.247863</td>\n",
       "      <td id=\"T_00258_row2_col4\" class=\"data row2 col4\" >0.830827</td>\n",
       "      <td id=\"T_00258_row2_col5\" class=\"data row2 col5\" >0.209205</td>\n",
       "      <td id=\"T_00258_row2_col6\" class=\"data row2 col6\" >0.300518</td>\n",
       "    </tr>\n",
       "    <tr>\n",
       "      <th id=\"T_00258_level0_row3\" class=\"row_heading level0 row3\" >3</th>\n",
       "      <td id=\"T_00258_row3_col0\" class=\"data row3 col0\" >0.400000</td>\n",
       "      <td id=\"T_00258_row3_col1\" class=\"data row3 col1\" >0.543074</td>\n",
       "      <td id=\"T_00258_row3_col2\" class=\"data row3 col2\" >0.433333</td>\n",
       "      <td id=\"T_00258_row3_col3\" class=\"data row3 col3\" >0.111111</td>\n",
       "      <td id=\"T_00258_row3_col4\" class=\"data row3 col4\" >0.848371</td>\n",
       "      <td id=\"T_00258_row3_col5\" class=\"data row3 col5\" >0.124476</td>\n",
       "      <td id=\"T_00258_row3_col6\" class=\"data row3 col6\" >0.176871</td>\n",
       "    </tr>\n",
       "    <tr>\n",
       "      <th id=\"T_00258_level0_row4\" class=\"row_heading level0 row4\" >4</th>\n",
       "      <td id=\"T_00258_row4_col0\" class=\"data row4 col0\" >0.500000</td>\n",
       "      <td id=\"T_00258_row4_col1\" class=\"data row4 col1\" >0.524907</td>\n",
       "      <td id=\"T_00258_row4_col2\" class=\"data row4 col2\" >0.857143</td>\n",
       "      <td id=\"T_00258_row4_col3\" class=\"data row4 col3\" >0.051282</td>\n",
       "      <td id=\"T_00258_row4_col4\" class=\"data row4 col4\" >0.859649</td>\n",
       "      <td id=\"T_00258_row4_col5\" class=\"data row4 col5\" >0.081571</td>\n",
       "      <td id=\"T_00258_row4_col6\" class=\"data row4 col6\" >0.096774</td>\n",
       "    </tr>\n",
       "    <tr>\n",
       "      <th id=\"T_00258_level0_row5\" class=\"row_heading level0 row5\" >5</th>\n",
       "      <td id=\"T_00258_row5_col0\" class=\"data row5 col0\" >0.600000</td>\n",
       "      <td id=\"T_00258_row5_col1\" class=\"data row5 col1\" >0.512821</td>\n",
       "      <td id=\"T_00258_row5_col2\" class=\"data row5 col2\" >1.000000</td>\n",
       "      <td id=\"T_00258_row5_col3\" class=\"data row5 col3\" >0.025641</td>\n",
       "      <td id=\"T_00258_row5_col4\" class=\"data row5 col4\" >0.857143</td>\n",
       "      <td id=\"T_00258_row5_col5\" class=\"data row5 col5\" >0.042984</td>\n",
       "      <td id=\"T_00258_row5_col6\" class=\"data row5 col6\" >0.050000</td>\n",
       "    </tr>\n",
       "    <tr>\n",
       "      <th id=\"T_00258_level0_row6\" class=\"row_heading level0 row6\" >6</th>\n",
       "      <td id=\"T_00258_row6_col0\" class=\"data row6 col0\" >0.700000</td>\n",
       "      <td id=\"T_00258_row6_col1\" class=\"data row6 col1\" >0.504274</td>\n",
       "      <td id=\"T_00258_row6_col2\" class=\"data row6 col2\" >1.000000</td>\n",
       "      <td id=\"T_00258_row6_col3\" class=\"data row6 col3\" >0.008547</td>\n",
       "      <td id=\"T_00258_row6_col4\" class=\"data row6 col4\" >0.854637</td>\n",
       "      <td id=\"T_00258_row6_col5\" class=\"data row6 col5\" >0.014500</td>\n",
       "      <td id=\"T_00258_row6_col6\" class=\"data row6 col6\" >0.016949</td>\n",
       "    </tr>\n",
       "    <tr>\n",
       "      <th id=\"T_00258_level0_row7\" class=\"row_heading level0 row7\" >7</th>\n",
       "      <td id=\"T_00258_row7_col0\" class=\"data row7 col0\" >0.800000</td>\n",
       "      <td id=\"T_00258_row7_col1\" class=\"data row7 col1\" >0.500000</td>\n",
       "      <td id=\"T_00258_row7_col2\" class=\"data row7 col2\" >0.000000</td>\n",
       "      <td id=\"T_00258_row7_col3\" class=\"data row7 col3\" >0.000000</td>\n",
       "      <td id=\"T_00258_row7_col4\" class=\"data row7 col4\" >0.853383</td>\n",
       "      <td id=\"T_00258_row7_col5\" class=\"data row7 col5\" >0.000000</td>\n",
       "      <td id=\"T_00258_row7_col6\" class=\"data row7 col6\" >0.000000</td>\n",
       "    </tr>\n",
       "    <tr>\n",
       "      <th id=\"T_00258_level0_row8\" class=\"row_heading level0 row8\" >8</th>\n",
       "      <td id=\"T_00258_row8_col0\" class=\"data row8 col0\" >0.900000</td>\n",
       "      <td id=\"T_00258_row8_col1\" class=\"data row8 col1\" >0.500000</td>\n",
       "      <td id=\"T_00258_row8_col2\" class=\"data row8 col2\" >0.000000</td>\n",
       "      <td id=\"T_00258_row8_col3\" class=\"data row8 col3\" >0.000000</td>\n",
       "      <td id=\"T_00258_row8_col4\" class=\"data row8 col4\" >0.853383</td>\n",
       "      <td id=\"T_00258_row8_col5\" class=\"data row8 col5\" >0.000000</td>\n",
       "      <td id=\"T_00258_row8_col6\" class=\"data row8 col6\" >0.000000</td>\n",
       "    </tr>\n",
       "  </tbody>\n",
       "</table>\n"
      ],
      "text/plain": [
       "<pandas.io.formats.style.Styler at 0x1d348896430>"
      ]
     },
     "execution_count": 37,
     "metadata": {},
     "output_type": "execute_result"
    }
   ],
   "source": [
    "print('Score Card for Logistic regression:')\n",
    "\n",
    "# sort the dataframe based on the probability cut-off values ascending order\n",
    "# 'reset_index' resets the index of the dataframe\n",
    "# 'drop = True' drops the previous index\n",
    "score_card = score_card.sort_values('Probability Cutoff').reset_index(drop = True)\n",
    "\n",
    "# color the cell in the columns 'AUC Score', 'Accuracy Score', 'Kappa Score', 'f1-score' having maximum values\n",
    "# 'style.highlight_max' assigns color to the maximum value\n",
    "# pass specified color to the parameter, 'color'\n",
    "# pass the data to limit the color assignment to the parameter, 'subset' \n",
    "score_card.style.highlight_max(color = 'lightblue', subset = ['AUC Score', 'Accuracy Score', 'Kappa Score', 'f1-score'])"
   ]
  },
  {
   "cell_type": "markdown",
   "id": "0a09ff73",
   "metadata": {},
   "source": [
    "**Interpretation:** The above dataframe shows that, the model cut_off probability 0.2, returns the highest AUC score, f1-score, kappa score."
   ]
  },
  {
   "cell_type": "markdown",
   "id": "20e115ba",
   "metadata": {},
   "source": [
    "In the above method, we passed the list of values for the cut-off. But, this method is not efficient as one can pass different values and obtain a cut-off based on the passed values.\n",
    "To obtain the optimal cut-off value we use the following methods:\n",
    "Youden's Index\n",
    "Cost-based Method"
   ]
  },
  {
   "cell_type": "markdown",
   "id": "0a583765",
   "metadata": {},
   "source": [
    "Youden's Index is the classification cut-off probability for which the (Sensitivity + Specificity - 1) is maximized.\n",
    "\n",
    "Youden's Index = max(Sensitivity + Specificity - 1) = max(TPR + TNR - 1) = max(TPR - FPR)\n",
    "\n",
    "i.e. select the cut-off probability for which the (TPR - FPR) is maximum."
   ]
  },
  {
   "cell_type": "code",
   "execution_count": 38,
   "id": "abee29e6",
   "metadata": {},
   "outputs": [
    {
     "data": {
      "text/html": [
       "<div>\n",
       "<style scoped>\n",
       "    .dataframe tbody tr th:only-of-type {\n",
       "        vertical-align: middle;\n",
       "    }\n",
       "\n",
       "    .dataframe tbody tr th {\n",
       "        vertical-align: top;\n",
       "    }\n",
       "\n",
       "    .dataframe thead th {\n",
       "        text-align: right;\n",
       "    }\n",
       "</style>\n",
       "<table border=\"1\" class=\"dataframe\">\n",
       "  <thead>\n",
       "    <tr style=\"text-align: right;\">\n",
       "      <th></th>\n",
       "      <th>TPR</th>\n",
       "      <th>FPR</th>\n",
       "      <th>Threshold</th>\n",
       "      <th>Difference</th>\n",
       "    </tr>\n",
       "  </thead>\n",
       "  <tbody>\n",
       "    <tr>\n",
       "      <th>0</th>\n",
       "      <td>0.675214</td>\n",
       "      <td>0.261380</td>\n",
       "      <td>0.167451</td>\n",
       "      <td>0.413833</td>\n",
       "    </tr>\n",
       "    <tr>\n",
       "      <th>1</th>\n",
       "      <td>0.726496</td>\n",
       "      <td>0.318649</td>\n",
       "      <td>0.148395</td>\n",
       "      <td>0.407847</td>\n",
       "    </tr>\n",
       "    <tr>\n",
       "      <th>2</th>\n",
       "      <td>0.683761</td>\n",
       "      <td>0.277533</td>\n",
       "      <td>0.163363</td>\n",
       "      <td>0.406228</td>\n",
       "    </tr>\n",
       "    <tr>\n",
       "      <th>3</th>\n",
       "      <td>0.658120</td>\n",
       "      <td>0.252570</td>\n",
       "      <td>0.172574</td>\n",
       "      <td>0.405550</td>\n",
       "    </tr>\n",
       "    <tr>\n",
       "      <th>4</th>\n",
       "      <td>0.709402</td>\n",
       "      <td>0.303965</td>\n",
       "      <td>0.155402</td>\n",
       "      <td>0.405437</td>\n",
       "    </tr>\n",
       "  </tbody>\n",
       "</table>\n",
       "</div>"
      ],
      "text/plain": [
       "        TPR       FPR  Threshold  Difference\n",
       "0  0.675214  0.261380   0.167451    0.413833\n",
       "1  0.726496  0.318649   0.148395    0.407847\n",
       "2  0.683761  0.277533   0.163363    0.406228\n",
       "3  0.658120  0.252570   0.172574    0.405550\n",
       "4  0.709402  0.303965   0.155402    0.405437"
      ]
     },
     "execution_count": 38,
     "metadata": {},
     "output_type": "execute_result"
    }
   ],
   "source": [
    "# create a dataframe to store the values for false positive rate, true positive rate and threshold\n",
    "youdens_table = pd.DataFrame({'TPR': tpr,\n",
    "                             'FPR': fpr,\n",
    "                             'Threshold': thresholds})\n",
    "\n",
    "# calculate the difference between TPR and FPR for each threshold and store the values in a new column 'Difference'\n",
    "youdens_table['Difference'] = youdens_table.TPR - youdens_table.FPR\n",
    "\n",
    "# sort the dataframe based on the values of difference \n",
    "# 'ascending = False' sorts the data in descending order\n",
    "# 'reset_index' resets the index of the dataframe\n",
    "# 'drop = True' drops the previous index\n",
    "youdens_table = youdens_table.sort_values('Difference', ascending = False).reset_index(drop = True)\n",
    "\n",
    "# print the first five observations\n",
    "youdens_table.head()"
   ]
  },
  {
   "cell_type": "code",
   "execution_count": 39,
   "id": "5dcfec0b",
   "metadata": {},
   "outputs": [],
   "source": [
    "# As we can see that the optimal cut-off probability is approximately 0.17"
   ]
  },
  {
   "cell_type": "code",
   "execution_count": 40,
   "id": "1738843f",
   "metadata": {},
   "outputs": [],
   "source": [
    "# convert probabilities to 0 and 1 using 'if_else'\n",
    "y_pred_youden = [ 0 if x < 0.17 else 1 for x in y_pred_prob]"
   ]
  },
  {
   "cell_type": "code",
   "execution_count": 41,
   "id": "93a42dfd",
   "metadata": {},
   "outputs": [
    {
     "name": "stdout",
     "output_type": "stream",
     "text": [
      "              precision    recall  f1-score   support\n",
      "\n",
      "           0       0.93      0.74      0.82       681\n",
      "           1       0.30      0.66      0.42       117\n",
      "\n",
      "    accuracy                           0.73       798\n",
      "   macro avg       0.62      0.70      0.62       798\n",
      "weighted avg       0.84      0.73      0.76       798\n",
      "\n"
     ]
    }
   ],
   "source": [
    "# calculate various performance measures\n",
    "acc_table = classification_report(y_test, y_pred_youden)\n",
    "\n",
    "# print the table\n",
    "print(acc_table)"
   ]
  },
  {
   "cell_type": "markdown",
   "id": "ead7c2fc",
   "metadata": {},
   "source": [
    "From the above output, we can see that the model with cut-off = 0.17, is 73% accurate.??????"
   ]
  },
  {
   "cell_type": "markdown",
   "id": "f5237a4a",
   "metadata": {},
   "source": [
    "In the linear regression module, we learn about various techniques for selecting the significant features in the dataset. In this project, let us consider the RFE method for feature selection."
   ]
  },
  {
   "cell_type": "code",
   "execution_count": 42,
   "id": "b3424187",
   "metadata": {},
   "outputs": [
    {
     "name": "stdout",
     "output_type": "stream",
     "text": [
      "Index(['BPMeds_1.0', 'prevalentHyp_1', 'diabetes_1'], dtype='object')\n"
     ]
    }
   ],
   "source": [
    "# consider the independent variables (without the intercept term)\n",
    "# as, X_train and X_test contains the intercept term\n",
    "# use 'iloc' to select the variables wthout intercept term \n",
    "X_train_rfe = X_train.iloc[:,1:]\n",
    "X_test_rfe = X_test.iloc[:,1:]\n",
    "\n",
    "# initiate logistic regression model to use in feature selection\n",
    "logreg_full = LogisticRegression()\n",
    "\n",
    "# build the RFE model\n",
    "# pass the logistic regression model to 'estimator'\n",
    "# pass number of required features to 'n_features_to_select'\n",
    "# if we do not pass the number of features, RFE considers half of the features\n",
    "rfe_model = RFE(estimator = logreg_full, n_features_to_select = 3)\n",
    "\n",
    "# fit the RFE model on the train dataset using fit()\n",
    "rfe_model = rfe_model.fit(X_train_rfe, y_train)\n",
    "\n",
    "# create a series containing feature and its corresponding rank obtained from RFE\n",
    "# 'ranking_' returns the rank of each variable after applying RFE\n",
    "# pass the ranks as the 'data' of a series\n",
    "# 'index' assigns feature names as index of a series \n",
    "feat_index = pd.Series(data = rfe_model.ranking_, index = X_train_rfe.columns)\n",
    "\n",
    "# select the features with rank = 1\n",
    "# 'index' returns the indices of a series (i.e. features with rank=1) \n",
    "signi_feat_rfe = feat_index[feat_index==1].index\n",
    "\n",
    "# print the significant features obtained from RFE\n",
    "print(signi_feat_rfe)"
   ]
  },
  {
   "cell_type": "code",
   "execution_count": 43,
   "id": "40e63aaf",
   "metadata": {},
   "outputs": [
    {
     "name": "stdout",
     "output_type": "stream",
     "text": [
      "Optimization terminated successfully.\n",
      "         Current function value: 0.406927\n",
      "         Iterations 6\n",
      "                           Logit Regression Results                           \n",
      "==============================================================================\n",
      "Dep. Variable:                    CVD   No. Observations:                 3191\n",
      "Model:                          Logit   Df Residuals:                     3187\n",
      "Method:                           MLE   Df Model:                            3\n",
      "Date:                Wed, 10 Jan 2024   Pseudo R-squ.:                 0.03653\n",
      "Time:                        18:16:25   Log-Likelihood:                -1298.5\n",
      "converged:                       True   LL-Null:                       -1347.7\n",
      "Covariance Type:            nonrobust   LLR p-value:                 3.325e-21\n",
      "==================================================================================\n",
      "                     coef    std err          z      P>|z|      [0.025      0.975]\n",
      "----------------------------------------------------------------------------------\n",
      "const             -2.1031      0.068    -30.752      0.000      -2.237      -1.969\n",
      "BPMeds_1.0         0.6198      0.225      2.759      0.006       0.179       1.060\n",
      "prevalentHyp_1     0.8176      0.106      7.729      0.000       0.610       1.025\n",
      "diabetes_1         0.8814      0.252      3.503      0.000       0.388       1.374\n",
      "==================================================================================\n"
     ]
    }
   ],
   "source": [
    "# build the model on train data (X_train and y_train)\n",
    "# use fit() to fit the logistic regression model\n",
    "# consider the variables obtained from RFE method and the intercept term\n",
    "logreg_rfe = sm.Logit(y_train, X_train[['const', 'BPMeds_1.0', 'prevalentHyp_1', 'diabetes_1']]).fit()\n",
    "\n",
    "# print the summary of the model\n",
    "print(logreg_rfe.summary())"
   ]
  },
  {
   "cell_type": "code",
   "execution_count": 44,
   "id": "1f035c9d",
   "metadata": {},
   "outputs": [
    {
     "name": "stdout",
     "output_type": "stream",
     "text": [
      "AIC: 2605.009429542432\n"
     ]
    }
   ],
   "source": [
    "print('AIC:', logreg_rfe.aic)"
   ]
  },
  {
   "cell_type": "code",
   "execution_count": 45,
   "id": "60bb9d4c",
   "metadata": {},
   "outputs": [
    {
     "data": {
      "text/plain": [
       "1846    0.108798\n",
       "212     0.216616\n",
       "4151    0.108798\n",
       "1298    0.216616\n",
       "130     0.108798\n",
       "dtype: float64"
      ]
     },
     "execution_count": 45,
     "metadata": {},
     "output_type": "execute_result"
    }
   ],
   "source": [
    "# let 'y_pred_prob_rfe' be the predicted values of y\n",
    "y_pred_prob_rfe = logreg_rfe.predict(X_test[['const', 'BPMeds_1.0', 'prevalentHyp_1', 'diabetes_1']])\n",
    "\n",
    "# print the y_pred_prob_rfe\n",
    "y_pred_prob_rfe.head()"
   ]
  },
  {
   "cell_type": "code",
   "execution_count": 46,
   "id": "ad48c3c6",
   "metadata": {},
   "outputs": [],
   "source": [
    "y_pred_rfe = [ 0 if x < 0.2 else 1 for x in y_pred_prob_rfe]"
   ]
  },
  {
   "cell_type": "code",
   "execution_count": 47,
   "id": "536f9763",
   "metadata": {},
   "outputs": [
    {
     "data": {
      "text/plain": [
       "[0, 1, 0, 1, 0]"
      ]
     },
     "execution_count": 47,
     "metadata": {},
     "output_type": "execute_result"
    }
   ],
   "source": [
    "y_pred_rfe[0:5]"
   ]
  },
  {
   "cell_type": "code",
   "execution_count": 48,
   "id": "74ee6f12",
   "metadata": {},
   "outputs": [
    {
     "name": "stdout",
     "output_type": "stream",
     "text": [
      "              precision    recall  f1-score   support\n",
      "\n",
      "           0       0.91      0.72      0.81       681\n",
      "           1       0.27      0.58      0.36       117\n",
      "\n",
      "    accuracy                           0.70       798\n",
      "   macro avg       0.59      0.65      0.59       798\n",
      "weighted avg       0.82      0.70      0.74       798\n",
      "\n"
     ]
    }
   ],
   "source": [
    "# performance measures obtained by classification_report()\n",
    "result = classification_report(y_test, y_pred_rfe)\n",
    "\n",
    "# print the result\n",
    "print(result)"
   ]
  },
  {
   "cell_type": "code",
   "execution_count": 49,
   "id": "4a613964",
   "metadata": {},
   "outputs": [
    {
     "data": {
      "image/png": "[encoded data removed]",
      "text/plain": [
       "<Figure size 432x288 with 1 Axes>"
      ]
     },
     "metadata": {
      "needs_background": "light"
     },
     "output_type": "display_data"
    }
   ],
   "source": [
    "# the roc_curve() returns the values for false positive rate, true positive rate and threshold\n",
    "# pass the actual target values and predicted probabilities to the function\n",
    "fpr, tpr, thresholds = roc_curve(y_test, y_pred_prob_rfe)\n",
    "\n",
    "# plot the ROC curve\n",
    "plt.plot(fpr, tpr)\n",
    "\n",
    "# set limits for x and y axes\n",
    "plt.xlim([0.0, 1.0])\n",
    "plt.ylim([0.0, 1.0])\n",
    "\n",
    "# plot the straight line showing worst prediction for the model\n",
    "plt.plot([0, 1], [0, 1],'r--')\n",
    "\n",
    "# add plot and axes labels\n",
    "# set text size using 'fontsize'\n",
    "plt.title('ROC curve for Admission Prediction Classifier (RFE Model)', fontsize = 15)\n",
    "plt.xlabel('False positive rate (1-Specificity)', fontsize = 15)\n",
    "plt.ylabel('True positive rate (Sensitivity)', fontsize = 15)\n",
    "\n",
    "# add the AUC score to the plot\n",
    "# 'x' and 'y' gives position of the text\n",
    "# 's' is the text \n",
    "# use round() to round-off the AUC score upto 4 digits\n",
    "plt.text(x = 0.02, y = 0.9, s = ('AUC Score:', round(metrics.roc_auc_score(y_test, y_pred_prob_rfe),4)))\n",
    "                               \n",
    "# plot the grid\n",
    "plt.grid(True)"
   ]
  },
  {
   "cell_type": "code",
   "execution_count": 50,
   "id": "329812f9",
   "metadata": {},
   "outputs": [
    {
     "data": {
      "text/html": [
       "<div>\n",
       "<style scoped>\n",
       "    .dataframe tbody tr th:only-of-type {\n",
       "        vertical-align: middle;\n",
       "    }\n",
       "\n",
       "    .dataframe tbody tr th {\n",
       "        vertical-align: top;\n",
       "    }\n",
       "\n",
       "    .dataframe thead th {\n",
       "        text-align: right;\n",
       "    }\n",
       "</style>\n",
       "<table border=\"1\" class=\"dataframe\">\n",
       "  <thead>\n",
       "    <tr style=\"text-align: right;\">\n",
       "      <th></th>\n",
       "      <th>age</th>\n",
       "      <th>cigsPerDay</th>\n",
       "      <th>totChol</th>\n",
       "      <th>sysBP</th>\n",
       "      <th>diaBP</th>\n",
       "      <th>BMI</th>\n",
       "      <th>heartRate</th>\n",
       "      <th>glucose</th>\n",
       "    </tr>\n",
       "  </thead>\n",
       "  <tbody>\n",
       "    <tr>\n",
       "      <th>0</th>\n",
       "      <td>0.184211</td>\n",
       "      <td>0.000000</td>\n",
       "      <td>0.168378</td>\n",
       "      <td>0.106383</td>\n",
       "      <td>0.232804</td>\n",
       "      <td>0.277024</td>\n",
       "      <td>0.363636</td>\n",
       "      <td>0.104520</td>\n",
       "    </tr>\n",
       "    <tr>\n",
       "      <th>1</th>\n",
       "      <td>0.368421</td>\n",
       "      <td>0.000000</td>\n",
       "      <td>0.281314</td>\n",
       "      <td>0.177305</td>\n",
       "      <td>0.349206</td>\n",
       "      <td>0.319680</td>\n",
       "      <td>0.515152</td>\n",
       "      <td>0.101695</td>\n",
       "    </tr>\n",
       "    <tr>\n",
       "      <th>2</th>\n",
       "      <td>0.421053</td>\n",
       "      <td>0.285714</td>\n",
       "      <td>0.271047</td>\n",
       "      <td>0.208038</td>\n",
       "      <td>0.338624</td>\n",
       "      <td>0.237518</td>\n",
       "      <td>0.313131</td>\n",
       "      <td>0.084746</td>\n",
       "    </tr>\n",
       "    <tr>\n",
       "      <th>3</th>\n",
       "      <td>0.763158</td>\n",
       "      <td>0.428571</td>\n",
       "      <td>0.229979</td>\n",
       "      <td>0.314421</td>\n",
       "      <td>0.497354</td>\n",
       "      <td>0.316045</td>\n",
       "      <td>0.212121</td>\n",
       "      <td>0.177966</td>\n",
       "    </tr>\n",
       "    <tr>\n",
       "      <th>4</th>\n",
       "      <td>0.368421</td>\n",
       "      <td>0.328571</td>\n",
       "      <td>0.353183</td>\n",
       "      <td>0.219858</td>\n",
       "      <td>0.380952</td>\n",
       "      <td>0.183228</td>\n",
       "      <td>0.414141</td>\n",
       "      <td>0.127119</td>\n",
       "    </tr>\n",
       "  </tbody>\n",
       "</table>\n",
       "</div>"
      ],
      "text/plain": [
       "        age  cigsPerDay   totChol     sysBP     diaBP       BMI  heartRate  \\\n",
       "0  0.184211    0.000000  0.168378  0.106383  0.232804  0.277024   0.363636   \n",
       "1  0.368421    0.000000  0.281314  0.177305  0.349206  0.319680   0.515152   \n",
       "2  0.421053    0.285714  0.271047  0.208038  0.338624  0.237518   0.313131   \n",
       "3  0.763158    0.428571  0.229979  0.314421  0.497354  0.316045   0.212121   \n",
       "4  0.368421    0.328571  0.353183  0.219858  0.380952  0.183228   0.414141   \n",
       "\n",
       "    glucose  \n",
       "0  0.104520  \n",
       "1  0.101695  \n",
       "2  0.084746  \n",
       "3  0.177966  \n",
       "4  0.127119  "
      ]
     },
     "execution_count": 50,
     "metadata": {},
     "output_type": "execute_result"
    }
   ],
   "source": [
    "# initialize the MinMaxScaler\n",
    "X_norm = MinMaxScaler()\n",
    "\n",
    "# normalize all the numerical columns\n",
    "# normalize all the columns of the dataframe 'df_num'\n",
    "num_norm = X_norm.fit_transform(df_num)\n",
    "\n",
    "# create a dataframe of scaled numerical variables\n",
    "# pass the required column names to the parameter 'columns'\n",
    "X = pd.DataFrame(num_norm, columns = df_num.columns)\n",
    "\n",
    "X.head()"
   ]
  },
  {
   "cell_type": "code",
   "execution_count": 51,
   "id": "a83530e3",
   "metadata": {},
   "outputs": [],
   "source": [
    "X_train_norm, X_test_norm, y_train, y_test = train_test_split(X, df_heart['CVD'], random_state = 10, test_size = 0.2)\n"
   ]
  },
  {
   "cell_type": "code",
   "execution_count": 52,
   "id": "71c631dc",
   "metadata": {},
   "outputs": [],
   "source": [
    "# instantiate the 'KNeighborsClassifier'\n",
    "# n_neighnors: number of neighbors to consider\n",
    "# default metric is minkowski, and with p=2 it is equivalent to the euclidean metric\n",
    "knn_classification = KNeighborsClassifier(n_neighbors = 3)\n",
    "\n",
    "# fit the model using fit() on train data\n",
    "knn_model = knn_classification.fit(X_train_norm, y_train)"
   ]
  },
  {
   "cell_type": "code",
   "execution_count": 53,
   "id": "644c8f5d",
   "metadata": {},
   "outputs": [],
   "source": [
    "test_pred = knn_model.predict(X_test_norm)"
   ]
  },
  {
   "cell_type": "code",
   "execution_count": 54,
   "id": "466c3b0a",
   "metadata": {},
   "outputs": [
    {
     "name": "stdout",
     "output_type": "stream",
     "text": [
      "              precision    recall  f1-score   support\n",
      "\n",
      "           0       0.84      0.95      0.89       666\n",
      "           1       0.31      0.12      0.17       132\n",
      "\n",
      "    accuracy                           0.81       798\n",
      "   macro avg       0.58      0.53      0.53       798\n",
      "weighted avg       0.76      0.81      0.77       798\n",
      "\n"
     ]
    }
   ],
   "source": [
    "# performance measures obtained by classification_report()\n",
    "result = classification_report(y_test, test_pred)\n",
    "\n",
    "# print the result\n",
    "print(result)"
   ]
  },
  {
   "cell_type": "code",
   "execution_count": 55,
   "id": "df47816b",
   "metadata": {},
   "outputs": [
    {
     "data": {
      "image/png": "[encoded data removed]",
      "text/plain": [
       "<Figure size 432x288 with 1 Axes>"
      ]
     },
     "metadata": {
      "needs_background": "light"
     },
     "output_type": "display_data"
    }
   ],
   "source": [
    "# the roc_curve() returns the values for false positive rate, true positive rate and threshold\n",
    "# pass the actual target values and predicted probabilities to the function\n",
    "fpr, tpr, thresholds = roc_curve(y_test, test_pred)\n",
    "\n",
    "# plot the ROC curve\n",
    "plt.plot(fpr, tpr)\n",
    "\n",
    "# set limits for x and y axes\n",
    "plt.xlim([0.0, 1.0])\n",
    "plt.ylim([0.0, 1.0])\n",
    "\n",
    "# plot the straight line showing worst prediction for the model\n",
    "plt.plot([0, 1], [0, 1],'r--')\n",
    "\n",
    "# add plot and axes labels\n",
    "# set text size using 'fontsize'\n",
    "plt.title('ROC curve for knn model', fontsize = 15)\n",
    "plt.xlabel('False positive rate (1-Specificity)', fontsize = 15)\n",
    "plt.ylabel('True positive rate (Sensitivity)', fontsize = 15)\n",
    "\n",
    "# add the AUC score to the plot\n",
    "# 'x' and 'y' gives position of the text\n",
    "# 's' is the text \n",
    "# use round() to round-off the AUC score upto 4 digits\n",
    "plt.text(x = 0.02, y = 0.9, s = ('AUC Score:', round(metrics.roc_auc_score(y_test, test_pred),4)))\n",
    "                               \n",
    "# plot the grid\n",
    "plt.grid(True)"
   ]
  },
  {
   "cell_type": "code",
   "execution_count": 56,
   "id": "e05cc849",
   "metadata": {},
   "outputs": [
    {
     "name": "stdout",
     "output_type": "stream",
     "text": [
      "Best parameters for KNN Classifier:  {'metric': 'euclidean', 'n_neighbors': 23} \n",
      "\n"
     ]
    }
   ],
   "source": [
    "# create a dictionary with hyperparameters and its values\n",
    "# n_neighnors: number of neighbors to consider\n",
    "# usually, we consider the odd value of 'n_neighnors' to avoid the equal number of nearest points with more than one class\n",
    "# pass the different distance metrics to the parameter, 'metric'\n",
    "tuned_paramaters = {'n_neighbors': np.arange(1, 25, 2),\n",
    "                   'metric': ['hamming','euclidean','manhattan','Chebyshev']}\n",
    " \n",
    "# instantiate the 'KNeighborsClassifier' \n",
    "knn_classification = KNeighborsClassifier()\n",
    "\n",
    "# use GridSearchCV() to find the optimal value of the hyperparameters\n",
    "# estimator: pass the knn model\n",
    "# param_grid: pass the dictionary with hyperparameters and its values\n",
    "# cv: number of folds in k-fold i.e. here cv = 5\n",
    "# scoring: pass the scoring parameter 'accuracy'\n",
    "knn_grid = GridSearchCV(estimator = knn_classification, \n",
    "                        param_grid = tuned_paramaters, \n",
    "                        cv = 5, \n",
    "                        scoring = 'accuracy')\n",
    "\n",
    "# fit the model on X_train and y_train using fit()\n",
    "knn_grid.fit(X_train_norm, y_train)\n",
    "\n",
    "# get the best parameters\n",
    "print('Best parameters for KNN Classifier: ', knn_grid.best_params_, '\\n')"
   ]
  },
  {
   "cell_type": "code",
   "execution_count": 57,
   "id": "1ea6109a",
   "metadata": {},
   "outputs": [],
   "source": [
    "test_pred_grid = knn_grid.predict(X_test_norm)"
   ]
  },
  {
   "cell_type": "code",
   "execution_count": 58,
   "id": "bafaa45c",
   "metadata": {},
   "outputs": [
    {
     "name": "stdout",
     "output_type": "stream",
     "text": [
      "              precision    recall  f1-score   support\n",
      "\n",
      "           0       0.84      1.00      0.91       666\n",
      "           1       0.50      0.02      0.04       132\n",
      "\n",
      "    accuracy                           0.83       798\n",
      "   macro avg       0.67      0.51      0.48       798\n",
      "weighted avg       0.78      0.83      0.77       798\n",
      "\n"
     ]
    }
   ],
   "source": [
    "# performance measures obtained by classification_report()\n",
    "result = classification_report(y_test, test_pred_grid)\n",
    "\n",
    "# print the result\n",
    "print(result)"
   ]
  },
  {
   "cell_type": "code",
   "execution_count": 62,
   "id": "f092a0c8",
   "metadata": {},
   "outputs": [],
   "source": [
    "# instantiate the 'DecisionTreeClassifier' object using 'entropy' criterion\n",
    "# pass the 'random_state' to obtain the same samples for each time you run the code\n",
    "decision_tree_classification = DecisionTreeClassifier(criterion = 'entropy', random_state = 10)\n",
    "\n",
    "# fit the model using fit() on train data\n",
    "decision_tree = decision_tree_classification.fit(X_train_norm, y_train)"
   ]
  },
  {
   "cell_type": "code",
   "execution_count": 63,
   "id": "c20cd08f",
   "metadata": {},
   "outputs": [
    {
     "data": {
      "image/png": "[encoded data removed]",
      "text/plain": [
       "<Figure size 432x288 with 1 Axes>"
      ]
     },
     "metadata": {
      "needs_background": "light"
     },
     "output_type": "display_data"
    }
   ],
   "source": [
    "tree.plot_tree(decision_tree,max_depth=3,feature_names=X_train_norm.columns,rounded=True)\n",
    "plt.rcParams['figure.figsize'] = [30,17]\n",
    "plt.show()\n"
   ]
  },
  {
   "cell_type": "markdown",
   "id": "c5b74753",
   "metadata": {},
   "source": [
    "The decision tree is said to be over-fitted if it tries to perfectly fit all the observations in the training data. We can calculate the difference between the train and test accuracy to identify if there is over-fitting."
   ]
  },
  {
   "cell_type": "code",
   "execution_count": 64,
   "id": "ef334dae",
   "metadata": {},
   "outputs": [],
   "source": [
    "train_pred_des=decision_tree.predict(X_train_norm)"
   ]
  },
  {
   "cell_type": "code",
   "execution_count": 65,
   "id": "a5e55678",
   "metadata": {},
   "outputs": [
    {
     "name": "stdout",
     "output_type": "stream",
     "text": [
      "              precision    recall  f1-score   support\n",
      "\n",
      "           0       1.00      1.00      1.00      2728\n",
      "           1       1.00      1.00      1.00       463\n",
      "\n",
      "    accuracy                           1.00      3191\n",
      "   macro avg       1.00      1.00      1.00      3191\n",
      "weighted avg       1.00      1.00      1.00      3191\n",
      "\n"
     ]
    }
   ],
   "source": [
    "result = classification_report(y_train, train_pred_des)\n",
    "\n",
    "# print the result\n",
    "print(result)"
   ]
  },
  {
   "cell_type": "code",
   "execution_count": 66,
   "id": "d8d1f7e7",
   "metadata": {},
   "outputs": [],
   "source": [
    "test_pred_des=decision_tree.predict(X_test_norm)"
   ]
  },
  {
   "cell_type": "code",
   "execution_count": 67,
   "id": "95a5ee48",
   "metadata": {},
   "outputs": [
    {
     "name": "stdout",
     "output_type": "stream",
     "text": [
      "              precision    recall  f1-score   support\n",
      "\n",
      "           0       0.85      0.85      0.85       666\n",
      "           1       0.23      0.22      0.22       132\n",
      "\n",
      "    accuracy                           0.75       798\n",
      "   macro avg       0.54      0.54      0.54       798\n",
      "weighted avg       0.74      0.75      0.75       798\n",
      "\n"
     ]
    }
   ],
   "source": [
    "# performance measures obtained by classification_report()\n",
    "result = classification_report(y_test, test_pred_des)\n",
    "\n",
    "# print the result\n",
    "print(result)"
   ]
  },
  {
   "cell_type": "code",
   "execution_count": 68,
   "id": "aba3fe04",
   "metadata": {},
   "outputs": [],
   "source": [
    "#accuracy is decreasing in test data"
   ]
  },
  {
   "cell_type": "markdown",
   "id": "6ee177da",
   "metadata": {},
   "source": [
    "Interpretation: From the above output, we can see that there is a difference between the train and test accuracy; thus, we can conclude that the decision tree is over-fitted on the train data."
   ]
  },
  {
   "cell_type": "markdown",
   "id": "82ab5871",
   "metadata": {},
   "source": [
    "If we tune the hyperparameters in the decision tree, it helps to avoid the over-fitting of the tree."
   ]
  },
  {
   "cell_type": "code",
   "execution_count": 69,
   "id": "49dc9691",
   "metadata": {},
   "outputs": [
    {
     "name": "stdout",
     "output_type": "stream",
     "text": [
      "Best parameters for decision tree classifier:  {'criterion': 'entropy', 'max_depth': 3, 'max_features': 'sqrt', 'max_leaf_nodes': 7, 'min_samples_leaf': 1, 'min_samples_split': 2} \n",
      "\n"
     ]
    }
   ],
   "source": [
    "# create a dictionary with hyperparameters and its values\n",
    "# pass the criteria 'entropy' and 'gini' to the parameter, 'criterion' \n",
    "# pass the range of values to 'max_depth' that assigns maximum depth of the tree\n",
    "# 'max_features' assigns maximum number of features to consider for the best split. We pass the string 'sqrt' and 'log2'\n",
    "# 'sqrt' considers maximum number of features equal to the square root of total features\n",
    "# 'log2' considers maximum number of features equal to the log of total features with base 2\n",
    "# pass the range of values to 'min_samples_split' that assigns minimum number of samples to split an internal node\n",
    "# pass the range of values to 'min_samples_leaf' that assigns minimum number of samples required at the terminal/leaf node\n",
    "# pass the range of values to 'max_leaf_nodes' that assigns maximum number of leaf nodes in the tree\n",
    "tuned_paramaters = [{'criterion': ['entropy', 'gini'], \n",
    "                     'max_depth': range(2, 10),\n",
    "                     'max_features': [\"sqrt\", \"log2\"],\n",
    "                     'min_samples_split': range(2,10),\n",
    "                     'min_samples_leaf': range(1,10),\n",
    "                     'max_leaf_nodes': range(1, 10)}]\n",
    " \n",
    "# instantiate the 'DecisionTreeClassifier' \n",
    "# pass the 'random_state' to obtain the same samples for each time you run the code\n",
    "decision_tree_classification = DecisionTreeClassifier(random_state = 10)\n",
    "\n",
    "# use GridSearchCV() to find the optimal value of the hyperparameters\n",
    "# estimator: pass the decision tree classifier model\n",
    "# param_grid: pass the list 'tuned_parameters'\n",
    "# cv: number of folds in k-fold i.e. here cv = 5\n",
    "tree_grid = GridSearchCV(estimator = decision_tree_classification, \n",
    "                         param_grid = tuned_paramaters, \n",
    "                         cv = 5)\n",
    "\n",
    "# fit the model on X_train and y_train using fit()\n",
    "tree_grid_model = tree_grid.fit(X_train_norm, y_train)\n",
    "\n",
    "# get the best parameters\n",
    "print('Best parameters for decision tree classifier: ', tree_grid_model.best_params_, '\\n')"
   ]
  },
  {
   "cell_type": "code",
   "execution_count": 70,
   "id": "b48d618b",
   "metadata": {},
   "outputs": [],
   "source": [
    "# instantiate the 'DecisionTreeClassifier'\n",
    "# 'best_params_' returns the dictionary containing best parameter values and parameter name  \n",
    "# 'get()' returns the value of specified parameter\n",
    "# pass the 'random_state' to obtain the same samples for each time you run the code\n",
    "dt_model = DecisionTreeClassifier(criterion = tree_grid_model.best_params_.get('criterion'),\n",
    "                                  max_depth = tree_grid_model.best_params_.get('max_depth'),\n",
    "                                  max_features = tree_grid_model.best_params_.get('max_features'),\n",
    "                                  max_leaf_nodes = tree_grid_model.best_params_.get('max_leaf_nodes'),\n",
    "                                  min_samples_leaf = tree_grid_model.best_params_.get('min_samples_leaf'),\n",
    "                                  min_samples_split = tree_grid_model.best_params_.get('min_samples_split'),\n",
    "                                  random_state = 10)\n",
    "\n",
    "# use fit() to fit the model on the train set\n",
    "dt_model = dt_model.fit(X_train_norm, y_train)"
   ]
  },
  {
   "cell_type": "code",
   "execution_count": 71,
   "id": "dc30c906",
   "metadata": {},
   "outputs": [
    {
     "data": {
      "image/png": "[encoded data removed]",
      "text/plain": [
       "<Figure size 2160x1224 with 1 Axes>"
      ]
     },
     "metadata": {
      "needs_background": "light"
     },
     "output_type": "display_data"
    }
   ],
   "source": [
    "tree.plot_tree(dt_model,feature_names=X_train_norm.columns,rounded=True)\n",
    "plt.show()"
   ]
  },
  {
   "cell_type": "code",
   "execution_count": 72,
   "id": "602086eb",
   "metadata": {},
   "outputs": [],
   "source": [
    "train_pred_des_grid=dt_model.predict(X_train_norm)"
   ]
  },
  {
   "cell_type": "code",
   "execution_count": 73,
   "id": "825aef7a",
   "metadata": {},
   "outputs": [
    {
     "name": "stdout",
     "output_type": "stream",
     "text": [
      "              precision    recall  f1-score   support\n",
      "\n",
      "           0       0.86      1.00      0.92      2728\n",
      "           1       1.00      0.01      0.02       463\n",
      "\n",
      "    accuracy                           0.86      3191\n",
      "   macro avg       0.93      0.50      0.47      3191\n",
      "weighted avg       0.88      0.86      0.79      3191\n",
      "\n"
     ]
    }
   ],
   "source": [
    "result = classification_report(y_train, train_pred_des_grid)\n",
    "\n",
    "# print the result\n",
    "print(result)"
   ]
  },
  {
   "cell_type": "code",
   "execution_count": 74,
   "id": "f438de79",
   "metadata": {},
   "outputs": [
    {
     "name": "stdout",
     "output_type": "stream",
     "text": [
      "              precision    recall  f1-score   support\n",
      "\n",
      "           0       0.83      1.00      0.91       666\n",
      "           1       0.00      0.00      0.00       132\n",
      "\n",
      "    accuracy                           0.83       798\n",
      "   macro avg       0.42      0.50      0.45       798\n",
      "weighted avg       0.70      0.83      0.76       798\n",
      "\n"
     ]
    }
   ],
   "source": [
    "test_pred_des_grid=dt_model.predict(X_test_norm)\n",
    "# performance measures obtained by classification_report()\n",
    "result = classification_report(y_test, test_pred_des_grid)\n",
    "\n",
    "# print the result\n",
    "print(result)"
   ]
  },
  {
   "cell_type": "code",
   "execution_count": 80,
   "id": "91f721c9",
   "metadata": {},
   "outputs": [
    {
     "data": {
      "text/html": [
       "<style>#sk-container-id-2 {color: black;}#sk-container-id-2 pre{padding: 0;}#sk-container-id-2 div.sk-toggleable {background-color: white;}#sk-container-id-2 label.sk-toggleable__label {cursor: pointer;display: block;width: 100%;margin-bottom: 0;padding: 0.3em;box-sizing: border-box;text-align: center;}#sk-container-id-2 label.sk-toggleable__label-arrow:before {content: \"▸\";float: left;margin-right: 0.25em;color: #696969;}#sk-container-id-2 label.sk-toggleable__label-arrow:hover:before {color: black;}#sk-container-id-2 div.sk-estimator:hover label.sk-toggleable__label-arrow:before {color: black;}#sk-container-id-2 div.sk-toggleable__content {max-height: 0;max-width: 0;overflow: hidden;text-align: left;background-color: #f0f8ff;}#sk-container-id-2 div.sk-toggleable__content pre {margin: 0.2em;color: black;border-radius: 0.25em;background-color: #f0f8ff;}#sk-container-id-2 input.sk-toggleable__control:checked~div.sk-toggleable__content {max-height: 200px;max-width: 100%;overflow: auto;}#sk-container-id-2 input.sk-toggleable__control:checked~label.sk-toggleable__label-arrow:before {content: \"▾\";}#sk-container-id-2 div.sk-estimator input.sk-toggleable__control:checked~label.sk-toggleable__label {background-color: #d4ebff;}#sk-container-id-2 div.sk-label input.sk-toggleable__control:checked~label.sk-toggleable__label {background-color: #d4ebff;}#sk-container-id-2 input.sk-hidden--visually {border: 0;clip: rect(1px 1px 1px 1px);clip: rect(1px, 1px, 1px, 1px);height: 1px;margin: -1px;overflow: hidden;padding: 0;position: absolute;width: 1px;}#sk-container-id-2 div.sk-estimator {font-family: monospace;background-color: #f0f8ff;border: 1px dotted black;border-radius: 0.25em;box-sizing: border-box;margin-bottom: 0.5em;}#sk-container-id-2 div.sk-estimator:hover {background-color: #d4ebff;}#sk-container-id-2 div.sk-parallel-item::after {content: \"\";width: 100%;border-bottom: 1px solid gray;flex-grow: 1;}#sk-container-id-2 div.sk-label:hover label.sk-toggleable__label {background-color: #d4ebff;}#sk-container-id-2 div.sk-serial::before {content: \"\";position: absolute;border-left: 1px solid gray;box-sizing: border-box;top: 0;bottom: 0;left: 50%;z-index: 0;}#sk-container-id-2 div.sk-serial {display: flex;flex-direction: column;align-items: center;background-color: white;padding-right: 0.2em;padding-left: 0.2em;position: relative;}#sk-container-id-2 div.sk-item {position: relative;z-index: 1;}#sk-container-id-2 div.sk-parallel {display: flex;align-items: stretch;justify-content: center;background-color: white;position: relative;}#sk-container-id-2 div.sk-item::before, #sk-container-id-2 div.sk-parallel-item::before {content: \"\";position: absolute;border-left: 1px solid gray;box-sizing: border-box;top: 0;bottom: 0;left: 50%;z-index: -1;}#sk-container-id-2 div.sk-parallel-item {display: flex;flex-direction: column;z-index: 1;position: relative;background-color: white;}#sk-container-id-2 div.sk-parallel-item:first-child::after {align-self: flex-end;width: 50%;}#sk-container-id-2 div.sk-parallel-item:last-child::after {align-self: flex-start;width: 50%;}#sk-container-id-2 div.sk-parallel-item:only-child::after {width: 0;}#sk-container-id-2 div.sk-dashed-wrapped {border: 1px dashed gray;margin: 0 0.4em 0.5em 0.4em;box-sizing: border-box;padding-bottom: 0.4em;background-color: white;}#sk-container-id-2 div.sk-label label {font-family: monospace;font-weight: bold;display: inline-block;line-height: 1.2em;}#sk-container-id-2 div.sk-label-container {text-align: center;}#sk-container-id-2 div.sk-container {/* jupyter's `normalize.less` sets `[hidden] { display: none; }` but bootstrap.min.css set `[hidden] { display: none !important; }` so we also need the `!important` here to be able to override the default hidden behavior on the sphinx rendered scikit-learn.org. See: https://github.com/scikit-learn/scikit-learn/issues/21755 */display: inline-block !important;position: relative;}#sk-container-id-2 div.sk-text-repr-fallback {display: none;}</style><div id=\"sk-container-id-2\" class=\"sk-top-container\"><div class=\"sk-text-repr-fallback\"><pre>SVC()</pre><b>In a Jupyter environment, please rerun this cell to show the HTML representation or trust the notebook. <br />On GitHub, the HTML representation is unable to render, please try loading this page with nbviewer.org.</b></div><div class=\"sk-container\" hidden><div class=\"sk-item\"><div class=\"sk-estimator sk-toggleable\"><input class=\"sk-toggleable__control sk-hidden--visually\" id=\"sk-estimator-id-2\" type=\"checkbox\" checked><label for=\"sk-estimator-id-2\" class=\"sk-toggleable__label sk-toggleable__label-arrow\">SVC</label><div class=\"sk-toggleable__content\"><pre>SVC()</pre></div></div></div></div></div>"
      ],
      "text/plain": [
       "SVC()"
      ]
     },
     "execution_count": 80,
     "metadata": {},
     "output_type": "execute_result"
    }
   ],
   "source": [
    "from sklearn.svm import SVC\n",
    "# Create an SVM classifier\n",
    "svm_clf = SVC()\n",
    "\n",
    "# Train the model on the training data\n",
    "svm_clf.fit(X_train_norm, y_train)"
   ]
  },
  {
   "cell_type": "code",
   "execution_count": 76,
   "id": "c64a22d5",
   "metadata": {},
   "outputs": [],
   "source": [
    "y_pred = svm_clf.predict(X_test_norm)"
   ]
  },
  {
   "cell_type": "code",
   "execution_count": 77,
   "id": "1aa9d13c",
   "metadata": {},
   "outputs": [
    {
     "name": "stdout",
     "output_type": "stream",
     "text": [
      "\n",
      "Classification Report:\n",
      "               precision    recall  f1-score   support\n",
      "\n",
      "           0       0.83      1.00      0.91       666\n",
      "           1       0.00      0.00      0.00       132\n",
      "\n",
      "    accuracy                           0.83       798\n",
      "   macro avg       0.42      0.50      0.45       798\n",
      "weighted avg       0.70      0.83      0.76       798\n",
      "\n"
     ]
    }
   ],
   "source": [
    "\n",
    "print(\"\\nClassification Report:\\n\", classification_report(y_test, y_pred))"
   ]
  },
  {
   "cell_type": "code",
   "execution_count": 82,
   "id": "0713a14d",
   "metadata": {},
   "outputs": [
    {
     "data": {
      "text/html": [
       "<div>\n",
       "<style scoped>\n",
       "    .dataframe tbody tr th:only-of-type {\n",
       "        vertical-align: middle;\n",
       "    }\n",
       "\n",
       "    .dataframe tbody tr th {\n",
       "        vertical-align: top;\n",
       "    }\n",
       "\n",
       "    .dataframe thead th {\n",
       "        text-align: right;\n",
       "    }\n",
       "</style>\n",
       "<table border=\"1\" class=\"dataframe\">\n",
       "  <thead>\n",
       "    <tr style=\"text-align: right;\">\n",
       "      <th></th>\n",
       "      <th>rbf</th>\n",
       "      <th>linear</th>\n",
       "      <th>poly</th>\n",
       "      <th>sigmoid</th>\n",
       "    </tr>\n",
       "  </thead>\n",
       "  <tbody>\n",
       "    <tr>\n",
       "      <th>0</th>\n",
       "      <td>0.830827</td>\n",
       "      <td>0.834586</td>\n",
       "      <td>0.83208</td>\n",
       "      <td>0.715539</td>\n",
       "    </tr>\n",
       "  </tbody>\n",
       "</table>\n",
       "</div>"
      ],
      "text/plain": [
       "        rbf    linear     poly   sigmoid\n",
       "0  0.830827  0.834586  0.83208  0.715539"
      ]
     },
     "execution_count": 82,
     "metadata": {},
     "output_type": "execute_result"
    }
   ],
   "source": [
    "kernels=['rbf','linear','poly','sigmoid']\n",
    "mean_acc3 = list()\n",
    "for k in kernels:\n",
    "    clf = SVC(kernel=k).fit(X_train_norm, y_train)\n",
    "    y_predict_svm=clf.predict(X_test_norm)\n",
    "    mean_acc3.append(pd.Series(accuracy_score(y_test, y_predict_svm), name=k))\n",
    "mean_acc3 = pd.concat(mean_acc3, axis=1)\n",
    "mean_acc3"
   ]
  },
  {
   "cell_type": "markdown",
   "id": "e5b4dcd6",
   "metadata": {},
   "source": [
    "#Since the mean accuracy score is highest when kernel is chosen as linear, so we fix the kernel as linear"
   ]
  },
  {
   "cell_type": "code",
   "execution_count": 84,
   "id": "084a64f2",
   "metadata": {},
   "outputs": [
    {
     "name": "stdout",
     "output_type": "stream",
     "text": [
      "Fitting 5 folds for each of 25 candidates, totalling 125 fits\n",
      "[CV 1/5] END .....C=0.1, gamma=1, kernel=linear;, score=0.854 total time=   0.2s\n",
      "[CV 2/5] END .....C=0.1, gamma=1, kernel=linear;, score=0.856 total time=   0.1s\n",
      "[CV 3/5] END .....C=0.1, gamma=1, kernel=linear;, score=0.856 total time=   0.1s\n",
      "[CV 4/5] END .....C=0.1, gamma=1, kernel=linear;, score=0.854 total time=   0.1s\n",
      "[CV 5/5] END .....C=0.1, gamma=1, kernel=linear;, score=0.854 total time=   0.2s\n",
      "[CV 1/5] END ...C=0.1, gamma=0.1, kernel=linear;, score=0.854 total time=   0.2s\n",
      "[CV 2/5] END ...C=0.1, gamma=0.1, kernel=linear;, score=0.856 total time=   0.1s\n",
      "[CV 3/5] END ...C=0.1, gamma=0.1, kernel=linear;, score=0.856 total time=   0.1s\n",
      "[CV 4/5] END ...C=0.1, gamma=0.1, kernel=linear;, score=0.854 total time=   0.1s\n",
      "[CV 5/5] END ...C=0.1, gamma=0.1, kernel=linear;, score=0.854 total time=   0.1s\n",
      "[CV 1/5] END ..C=0.1, gamma=0.01, kernel=linear;, score=0.854 total time=   0.1s\n",
      "[CV 2/5] END ..C=0.1, gamma=0.01, kernel=linear;, score=0.856 total time=   0.1s\n",
      "[CV 3/5] END ..C=0.1, gamma=0.01, kernel=linear;, score=0.856 total time=   0.1s\n",
      "[CV 4/5] END ..C=0.1, gamma=0.01, kernel=linear;, score=0.854 total time=   0.1s\n",
      "[CV 5/5] END ..C=0.1, gamma=0.01, kernel=linear;, score=0.854 total time=   0.1s\n",
      "[CV 1/5] END .C=0.1, gamma=0.001, kernel=linear;, score=0.854 total time=   0.1s\n",
      "[CV 2/5] END .C=0.1, gamma=0.001, kernel=linear;, score=0.856 total time=   0.1s\n",
      "[CV 3/5] END .C=0.1, gamma=0.001, kernel=linear;, score=0.856 total time=   0.1s\n",
      "[CV 4/5] END .C=0.1, gamma=0.001, kernel=linear;, score=0.854 total time=   0.1s\n",
      "[CV 5/5] END .C=0.1, gamma=0.001, kernel=linear;, score=0.854 total time=   0.1s\n",
      "[CV 1/5] END C=0.1, gamma=0.0001, kernel=linear;, score=0.854 total time=   0.1s\n",
      "[CV 2/5] END C=0.1, gamma=0.0001, kernel=linear;, score=0.856 total time=   0.1s\n",
      "[CV 3/5] END C=0.1, gamma=0.0001, kernel=linear;, score=0.856 total time=   0.1s\n",
      "[CV 4/5] END C=0.1, gamma=0.0001, kernel=linear;, score=0.854 total time=   0.1s\n",
      "[CV 5/5] END C=0.1, gamma=0.0001, kernel=linear;, score=0.854 total time=   0.1s\n",
      "[CV 1/5] END .......C=1, gamma=1, kernel=linear;, score=0.854 total time=   0.1s\n",
      "[CV 2/5] END .......C=1, gamma=1, kernel=linear;, score=0.856 total time=   0.1s\n",
      "[CV 3/5] END .......C=1, gamma=1, kernel=linear;, score=0.856 total time=   0.1s\n",
      "[CV 4/5] END .......C=1, gamma=1, kernel=linear;, score=0.854 total time=   0.1s\n",
      "[CV 5/5] END .......C=1, gamma=1, kernel=linear;, score=0.854 total time=   0.1s\n",
      "[CV 1/5] END .....C=1, gamma=0.1, kernel=linear;, score=0.854 total time=   0.1s\n",
      "[CV 2/5] END .....C=1, gamma=0.1, kernel=linear;, score=0.856 total time=   0.1s\n",
      "[CV 3/5] END .....C=1, gamma=0.1, kernel=linear;, score=0.856 total time=   0.2s\n",
      "[CV 4/5] END .....C=1, gamma=0.1, kernel=linear;, score=0.854 total time=   0.2s\n",
      "[CV 5/5] END .....C=1, gamma=0.1, kernel=linear;, score=0.854 total time=   0.2s\n",
      "[CV 1/5] END ....C=1, gamma=0.01, kernel=linear;, score=0.854 total time=   0.1s\n",
      "[CV 2/5] END ....C=1, gamma=0.01, kernel=linear;, score=0.856 total time=   0.1s\n",
      "[CV 3/5] END ....C=1, gamma=0.01, kernel=linear;, score=0.856 total time=   0.1s\n",
      "[CV 4/5] END ....C=1, gamma=0.01, kernel=linear;, score=0.854 total time=   0.1s\n",
      "[CV 5/5] END ....C=1, gamma=0.01, kernel=linear;, score=0.854 total time=   0.2s\n",
      "[CV 1/5] END ...C=1, gamma=0.001, kernel=linear;, score=0.854 total time=   0.2s\n",
      "[CV 2/5] END ...C=1, gamma=0.001, kernel=linear;, score=0.856 total time=   0.1s\n",
      "[CV 3/5] END ...C=1, gamma=0.001, kernel=linear;, score=0.856 total time=   0.0s\n",
      "[CV 4/5] END ...C=1, gamma=0.001, kernel=linear;, score=0.854 total time=   0.0s\n",
      "[CV 5/5] END ...C=1, gamma=0.001, kernel=linear;, score=0.854 total time=   0.1s\n",
      "[CV 1/5] END ..C=1, gamma=0.0001, kernel=linear;, score=0.854 total time=   0.0s\n",
      "[CV 2/5] END ..C=1, gamma=0.0001, kernel=linear;, score=0.856 total time=   0.0s\n",
      "[CV 3/5] END ..C=1, gamma=0.0001, kernel=linear;, score=0.856 total time=   0.1s\n",
      "[CV 4/5] END ..C=1, gamma=0.0001, kernel=linear;, score=0.854 total time=   0.4s\n",
      "[CV 5/5] END ..C=1, gamma=0.0001, kernel=linear;, score=0.854 total time=   0.1s\n",
      "[CV 1/5] END ......C=10, gamma=1, kernel=linear;, score=0.854 total time=   0.2s\n",
      "[CV 2/5] END ......C=10, gamma=1, kernel=linear;, score=0.856 total time=   0.1s\n",
      "[CV 3/5] END ......C=10, gamma=1, kernel=linear;, score=0.856 total time=   0.1s\n",
      "[CV 4/5] END ......C=10, gamma=1, kernel=linear;, score=0.854 total time=   0.2s\n",
      "[CV 5/5] END ......C=10, gamma=1, kernel=linear;, score=0.854 total time=   0.2s\n",
      "[CV 1/5] END ....C=10, gamma=0.1, kernel=linear;, score=0.854 total time=   0.1s\n",
      "[CV 2/5] END ....C=10, gamma=0.1, kernel=linear;, score=0.856 total time=   0.1s\n",
      "[CV 3/5] END ....C=10, gamma=0.1, kernel=linear;, score=0.856 total time=   0.1s\n",
      "[CV 4/5] END ....C=10, gamma=0.1, kernel=linear;, score=0.854 total time=   0.1s\n",
      "[CV 5/5] END ....C=10, gamma=0.1, kernel=linear;, score=0.854 total time=   0.1s\n",
      "[CV 1/5] END ...C=10, gamma=0.01, kernel=linear;, score=0.854 total time=   0.1s\n",
      "[CV 2/5] END ...C=10, gamma=0.01, kernel=linear;, score=0.856 total time=   0.1s\n",
      "[CV 3/5] END ...C=10, gamma=0.01, kernel=linear;, score=0.856 total time=   0.1s\n",
      "[CV 4/5] END ...C=10, gamma=0.01, kernel=linear;, score=0.854 total time=   0.1s\n",
      "[CV 5/5] END ...C=10, gamma=0.01, kernel=linear;, score=0.854 total time=   0.2s\n",
      "[CV 1/5] END ..C=10, gamma=0.001, kernel=linear;, score=0.854 total time=   0.2s\n",
      "[CV 2/5] END ..C=10, gamma=0.001, kernel=linear;, score=0.856 total time=   0.2s\n",
      "[CV 3/5] END ..C=10, gamma=0.001, kernel=linear;, score=0.856 total time=   0.1s\n",
      "[CV 4/5] END ..C=10, gamma=0.001, kernel=linear;, score=0.854 total time=   0.1s\n",
      "[CV 5/5] END ..C=10, gamma=0.001, kernel=linear;, score=0.854 total time=   0.1s\n",
      "[CV 1/5] END .C=10, gamma=0.0001, kernel=linear;, score=0.854 total time=   0.1s\n",
      "[CV 2/5] END .C=10, gamma=0.0001, kernel=linear;, score=0.856 total time=   0.2s\n",
      "[CV 3/5] END .C=10, gamma=0.0001, kernel=linear;, score=0.856 total time=   0.1s\n",
      "[CV 4/5] END .C=10, gamma=0.0001, kernel=linear;, score=0.854 total time=   0.1s\n",
      "[CV 5/5] END .C=10, gamma=0.0001, kernel=linear;, score=0.854 total time=   0.2s\n",
      "[CV 1/5] END .....C=100, gamma=1, kernel=linear;, score=0.854 total time=   0.3s\n",
      "[CV 2/5] END .....C=100, gamma=1, kernel=linear;, score=0.856 total time=   0.3s\n",
      "[CV 3/5] END .....C=100, gamma=1, kernel=linear;, score=0.856 total time=   0.3s\n",
      "[CV 4/5] END .....C=100, gamma=1, kernel=linear;, score=0.854 total time=   0.3s\n",
      "[CV 5/5] END .....C=100, gamma=1, kernel=linear;, score=0.854 total time=   0.2s\n",
      "[CV 1/5] END ...C=100, gamma=0.1, kernel=linear;, score=0.854 total time=   0.3s\n",
      "[CV 2/5] END ...C=100, gamma=0.1, kernel=linear;, score=0.856 total time=   0.2s\n",
      "[CV 3/5] END ...C=100, gamma=0.1, kernel=linear;, score=0.856 total time=   0.2s\n",
      "[CV 4/5] END ...C=100, gamma=0.1, kernel=linear;, score=0.854 total time=   0.2s\n",
      "[CV 5/5] END ...C=100, gamma=0.1, kernel=linear;, score=0.854 total time=   0.2s\n",
      "[CV 1/5] END ..C=100, gamma=0.01, kernel=linear;, score=0.854 total time=   0.2s\n",
      "[CV 2/5] END ..C=100, gamma=0.01, kernel=linear;, score=0.856 total time=   0.2s\n",
      "[CV 3/5] END ..C=100, gamma=0.01, kernel=linear;, score=0.856 total time=   0.2s\n",
      "[CV 4/5] END ..C=100, gamma=0.01, kernel=linear;, score=0.854 total time=   0.2s\n",
      "[CV 5/5] END ..C=100, gamma=0.01, kernel=linear;, score=0.854 total time=   0.2s\n",
      "[CV 1/5] END .C=100, gamma=0.001, kernel=linear;, score=0.854 total time=   0.3s\n",
      "[CV 2/5] END .C=100, gamma=0.001, kernel=linear;, score=0.856 total time=   0.2s\n",
      "[CV 3/5] END .C=100, gamma=0.001, kernel=linear;, score=0.856 total time=   0.2s\n",
      "[CV 4/5] END .C=100, gamma=0.001, kernel=linear;, score=0.854 total time=   0.2s\n",
      "[CV 5/5] END .C=100, gamma=0.001, kernel=linear;, score=0.854 total time=   0.2s\n",
      "[CV 1/5] END C=100, gamma=0.0001, kernel=linear;, score=0.854 total time=   0.2s\n",
      "[CV 2/5] END C=100, gamma=0.0001, kernel=linear;, score=0.856 total time=   0.2s\n",
      "[CV 3/5] END C=100, gamma=0.0001, kernel=linear;, score=0.856 total time=   0.1s\n",
      "[CV 4/5] END C=100, gamma=0.0001, kernel=linear;, score=0.854 total time=   0.2s\n",
      "[CV 5/5] END C=100, gamma=0.0001, kernel=linear;, score=0.854 total time=   0.2s\n",
      "[CV 1/5] END ....C=1000, gamma=1, kernel=linear;, score=0.854 total time= 2.9min\n"
     ]
    },
    {
     "name": "stdout",
     "output_type": "stream",
     "text": [
      "[CV 2/5] END ....C=1000, gamma=1, kernel=linear;, score=0.856 total time= 3.7min\n",
      "[CV 3/5] END ....C=1000, gamma=1, kernel=linear;, score=0.856 total time= 3.8min\n",
      "[CV 4/5] END ....C=1000, gamma=1, kernel=linear;, score=0.854 total time= 1.5min\n",
      "[CV 5/5] END ....C=1000, gamma=1, kernel=linear;, score=0.854 total time= 1.2min\n",
      "[CV 1/5] END ..C=1000, gamma=0.1, kernel=linear;, score=0.854 total time= 1.2min\n",
      "[CV 2/5] END ..C=1000, gamma=0.1, kernel=linear;, score=0.856 total time= 1.4min\n",
      "[CV 3/5] END ..C=1000, gamma=0.1, kernel=linear;, score=0.856 total time= 1.5min\n",
      "[CV 4/5] END ..C=1000, gamma=0.1, kernel=linear;, score=0.854 total time= 1.3min\n",
      "[CV 5/5] END ..C=1000, gamma=0.1, kernel=linear;, score=0.854 total time= 1.3min\n",
      "[CV 1/5] END .C=1000, gamma=0.01, kernel=linear;, score=0.854 total time= 1.2min\n",
      "[CV 2/5] END .C=1000, gamma=0.01, kernel=linear;, score=0.856 total time= 1.4min\n",
      "[CV 3/5] END .C=1000, gamma=0.01, kernel=linear;, score=0.856 total time= 1.4min\n",
      "[CV 4/5] END .C=1000, gamma=0.01, kernel=linear;, score=0.854 total time= 1.3min\n",
      "[CV 5/5] END .C=1000, gamma=0.01, kernel=linear;, score=0.854 total time= 1.2min\n",
      "[CV 1/5] END C=1000, gamma=0.001, kernel=linear;, score=0.854 total time= 1.2min\n",
      "[CV 2/5] END C=1000, gamma=0.001, kernel=linear;, score=0.856 total time= 1.4min\n",
      "[CV 3/5] END C=1000, gamma=0.001, kernel=linear;, score=0.856 total time= 1.4min\n",
      "[CV 4/5] END C=1000, gamma=0.001, kernel=linear;, score=0.854 total time= 1.3min\n",
      "[CV 5/5] END C=1000, gamma=0.001, kernel=linear;, score=0.854 total time= 1.2min\n",
      "[CV 1/5] END C=1000, gamma=0.0001, kernel=linear;, score=0.854 total time= 1.2min\n",
      "[CV 2/5] END C=1000, gamma=0.0001, kernel=linear;, score=0.856 total time= 1.4min\n",
      "[CV 3/5] END C=1000, gamma=0.0001, kernel=linear;, score=0.856 total time= 1.4min\n",
      "[CV 4/5] END C=1000, gamma=0.0001, kernel=linear;, score=0.854 total time= 1.3min\n",
      "[CV 5/5] END C=1000, gamma=0.0001, kernel=linear;, score=0.854 total time= 1.2min\n"
     ]
    },
    {
     "data": {
      "text/html": [
       "<style>#sk-container-id-3 {color: black;}#sk-container-id-3 pre{padding: 0;}#sk-container-id-3 div.sk-toggleable {background-color: white;}#sk-container-id-3 label.sk-toggleable__label {cursor: pointer;display: block;width: 100%;margin-bottom: 0;padding: 0.3em;box-sizing: border-box;text-align: center;}#sk-container-id-3 label.sk-toggleable__label-arrow:before {content: \"▸\";float: left;margin-right: 0.25em;color: #696969;}#sk-container-id-3 label.sk-toggleable__label-arrow:hover:before {color: black;}#sk-container-id-3 div.sk-estimator:hover label.sk-toggleable__label-arrow:before {color: black;}#sk-container-id-3 div.sk-toggleable__content {max-height: 0;max-width: 0;overflow: hidden;text-align: left;background-color: #f0f8ff;}#sk-container-id-3 div.sk-toggleable__content pre {margin: 0.2em;color: black;border-radius: 0.25em;background-color: #f0f8ff;}#sk-container-id-3 input.sk-toggleable__control:checked~div.sk-toggleable__content {max-height: 200px;max-width: 100%;overflow: auto;}#sk-container-id-3 input.sk-toggleable__control:checked~label.sk-toggleable__label-arrow:before {content: \"▾\";}#sk-container-id-3 div.sk-estimator input.sk-toggleable__control:checked~label.sk-toggleable__label {background-color: #d4ebff;}#sk-container-id-3 div.sk-label input.sk-toggleable__control:checked~label.sk-toggleable__label {background-color: #d4ebff;}#sk-container-id-3 input.sk-hidden--visually {border: 0;clip: rect(1px 1px 1px 1px);clip: rect(1px, 1px, 1px, 1px);height: 1px;margin: -1px;overflow: hidden;padding: 0;position: absolute;width: 1px;}#sk-container-id-3 div.sk-estimator {font-family: monospace;background-color: #f0f8ff;border: 1px dotted black;border-radius: 0.25em;box-sizing: border-box;margin-bottom: 0.5em;}#sk-container-id-3 div.sk-estimator:hover {background-color: #d4ebff;}#sk-container-id-3 div.sk-parallel-item::after {content: \"\";width: 100%;border-bottom: 1px solid gray;flex-grow: 1;}#sk-container-id-3 div.sk-label:hover label.sk-toggleable__label {background-color: #d4ebff;}#sk-container-id-3 div.sk-serial::before {content: \"\";position: absolute;border-left: 1px solid gray;box-sizing: border-box;top: 0;bottom: 0;left: 50%;z-index: 0;}#sk-container-id-3 div.sk-serial {display: flex;flex-direction: column;align-items: center;background-color: white;padding-right: 0.2em;padding-left: 0.2em;position: relative;}#sk-container-id-3 div.sk-item {position: relative;z-index: 1;}#sk-container-id-3 div.sk-parallel {display: flex;align-items: stretch;justify-content: center;background-color: white;position: relative;}#sk-container-id-3 div.sk-item::before, #sk-container-id-3 div.sk-parallel-item::before {content: \"\";position: absolute;border-left: 1px solid gray;box-sizing: border-box;top: 0;bottom: 0;left: 50%;z-index: -1;}#sk-container-id-3 div.sk-parallel-item {display: flex;flex-direction: column;z-index: 1;position: relative;background-color: white;}#sk-container-id-3 div.sk-parallel-item:first-child::after {align-self: flex-end;width: 50%;}#sk-container-id-3 div.sk-parallel-item:last-child::after {align-self: flex-start;width: 50%;}#sk-container-id-3 div.sk-parallel-item:only-child::after {width: 0;}#sk-container-id-3 div.sk-dashed-wrapped {border: 1px dashed gray;margin: 0 0.4em 0.5em 0.4em;box-sizing: border-box;padding-bottom: 0.4em;background-color: white;}#sk-container-id-3 div.sk-label label {font-family: monospace;font-weight: bold;display: inline-block;line-height: 1.2em;}#sk-container-id-3 div.sk-label-container {text-align: center;}#sk-container-id-3 div.sk-container {/* jupyter's `normalize.less` sets `[hidden] { display: none; }` but bootstrap.min.css set `[hidden] { display: none !important; }` so we also need the `!important` here to be able to override the default hidden behavior on the sphinx rendered scikit-learn.org. See: https://github.com/scikit-learn/scikit-learn/issues/21755 */display: inline-block !important;position: relative;}#sk-container-id-3 div.sk-text-repr-fallback {display: none;}</style><div id=\"sk-container-id-3\" class=\"sk-top-container\"><div class=\"sk-text-repr-fallback\"><pre>GridSearchCV(estimator=SVC(),\n",
       "             param_grid={&#x27;C&#x27;: [0.1, 1, 10, 100, 1000],\n",
       "                         &#x27;gamma&#x27;: [1, 0.1, 0.01, 0.001, 0.0001],\n",
       "                         &#x27;kernel&#x27;: [&#x27;linear&#x27;]},\n",
       "             verbose=3)</pre><b>In a Jupyter environment, please rerun this cell to show the HTML representation or trust the notebook. <br />On GitHub, the HTML representation is unable to render, please try loading this page with nbviewer.org.</b></div><div class=\"sk-container\" hidden><div class=\"sk-item sk-dashed-wrapped\"><div class=\"sk-label-container\"><div class=\"sk-label sk-toggleable\"><input class=\"sk-toggleable__control sk-hidden--visually\" id=\"sk-estimator-id-3\" type=\"checkbox\" ><label for=\"sk-estimator-id-3\" class=\"sk-toggleable__label sk-toggleable__label-arrow\">GridSearchCV</label><div class=\"sk-toggleable__content\"><pre>GridSearchCV(estimator=SVC(),\n",
       "             param_grid={&#x27;C&#x27;: [0.1, 1, 10, 100, 1000],\n",
       "                         &#x27;gamma&#x27;: [1, 0.1, 0.01, 0.001, 0.0001],\n",
       "                         &#x27;kernel&#x27;: [&#x27;linear&#x27;]},\n",
       "             verbose=3)</pre></div></div></div><div class=\"sk-parallel\"><div class=\"sk-parallel-item\"><div class=\"sk-item\"><div class=\"sk-label-container\"><div class=\"sk-label sk-toggleable\"><input class=\"sk-toggleable__control sk-hidden--visually\" id=\"sk-estimator-id-4\" type=\"checkbox\" ><label for=\"sk-estimator-id-4\" class=\"sk-toggleable__label sk-toggleable__label-arrow\">estimator: SVC</label><div class=\"sk-toggleable__content\"><pre>SVC()</pre></div></div></div><div class=\"sk-serial\"><div class=\"sk-item\"><div class=\"sk-estimator sk-toggleable\"><input class=\"sk-toggleable__control sk-hidden--visually\" id=\"sk-estimator-id-5\" type=\"checkbox\" ><label for=\"sk-estimator-id-5\" class=\"sk-toggleable__label sk-toggleable__label-arrow\">SVC</label><div class=\"sk-toggleable__content\"><pre>SVC()</pre></div></div></div></div></div></div></div></div></div></div>"
      ],
      "text/plain": [
       "GridSearchCV(estimator=SVC(),\n",
       "             param_grid={'C': [0.1, 1, 10, 100, 1000],\n",
       "                         'gamma': [1, 0.1, 0.01, 0.001, 0.0001],\n",
       "                         'kernel': ['linear']},\n",
       "             verbose=3)"
      ]
     },
     "execution_count": 84,
     "metadata": {},
     "output_type": "execute_result"
    }
   ],
   "source": [
    "#Grid Search\n",
    "from sklearn.model_selection import GridSearchCV\n",
    "  \n",
    "# defining parameter range\n",
    "param_gridsvm = {'C': [0.1, 1, 10, 100, 1000], \n",
    "              'gamma': [1, 0.1, 0.01, 0.001, 0.0001],\n",
    "              'kernel': ['linear']} \n",
    "  \n",
    "gridsvm = GridSearchCV(svm_clf, param_gridsvm, refit = True, verbose = 3)\n",
    "  \n",
    "# fitting the model for grid search\n",
    "gridsvm.fit(X_train_norm, y_train)"
   ]
  },
  {
   "cell_type": "code",
   "execution_count": 85,
   "id": "2e163225",
   "metadata": {},
   "outputs": [
    {
     "name": "stdout",
     "output_type": "stream",
     "text": [
      "{'C': 0.1, 'gamma': 1, 'kernel': 'linear'}\n",
      "SVC(C=0.1, gamma=1, kernel='linear')\n"
     ]
    }
   ],
   "source": [
    "# print best parameter after tuning\n",
    "print(gridsvm.best_params_)\n",
    "  \n",
    "# print how our model looks after hyper-parameter tuning\n",
    "print(gridsvm.best_estimator_)"
   ]
  },
  {
   "cell_type": "code",
   "execution_count": 86,
   "id": "42c72185",
   "metadata": {},
   "outputs": [
    {
     "name": "stdout",
     "output_type": "stream",
     "text": [
      "Train accuracy: 85.49%\n",
      "Test accuracy: 83.46%\n"
     ]
    }
   ],
   "source": [
    "y_pred_svm = gridsvm.predict(X_test_norm)\n",
    "fit_accuracy = gridsvm.score(X_train_norm, y_train)\n",
    "test_accuracy = gridsvm.score(X_test_norm, y_test)\n",
    "    \n",
    "print(f\"Train accuracy: {fit_accuracy:0.2%}\")\n",
    "print(f\"Test accuracy: {test_accuracy:0.2%}\")"
   ]
  },
  {
   "cell_type": "code",
   "execution_count": 87,
   "id": "94d2496d",
   "metadata": {},
   "outputs": [
    {
     "name": "stdout",
     "output_type": "stream",
     "text": [
      "              precision    recall  f1-score   support\n",
      "\n",
      "           0       0.83      1.00      0.91       666\n",
      "           1       0.00      0.00      0.00       132\n",
      "\n",
      "    accuracy                           0.83       798\n",
      "   macro avg       0.42      0.50      0.45       798\n",
      "weighted avg       0.70      0.83      0.76       798\n",
      "\n"
     ]
    }
   ],
   "source": [
    "print(classification_report(y_test,y_pred_svm))"
   ]
  },
  {
   "cell_type": "markdown",
   "id": "7aac078a",
   "metadata": {},
   "source": [
    "#hyperparameter tuning \n",
    "param_grid = {\n",
    "    'C': [0.1, 1, 10, 100],  # Regularization parameter\n",
    "    'gamma': ['scale', 'auto', 0.1, 1, 10, 100],  # Kernel coefficient\n",
    "    'kernel': ['rbf', 'linear', 'poly', 'sigmoid']  # Type of kernel\n",
    "}\n"
   ]
  },
  {
   "cell_type": "markdown",
   "id": "29aa873a",
   "metadata": {},
   "source": [
    "grid_search = GridSearchCV(SVC(), param_grid, refit=True, verbose=2, cv=5)  # cv is the number of folds\n"
   ]
  },
  {
   "cell_type": "markdown",
   "id": "9c0b7636",
   "metadata": {},
   "source": [
    "grid_search.fit(X_train_norm, y_train)\n"
   ]
  },
  {
   "cell_type": "code",
   "execution_count": null,
   "id": "82573610",
   "metadata": {},
   "outputs": [],
   "source": []
  }
 ],
 "metadata": {
  "kernelspec": {
   "display_name": "Python 3 (ipykernel)",
   "language": "python",
   "name": "python3"
  },
  "language_info": {
   "codemirror_mode": {
    "name": "ipython",
    "version": 3
   },
   "file_extension": ".py",
   "mimetype": "text/x-python",
   "name": "python",
   "nbconvert_exporter": "python",
   "pygments_lexer": "ipython3",
   "version": "3.9.7"
  }
 },
 "nbformat": 4,
 "nbformat_minor": 5
}
